{
 "cells": [
  {
   "cell_type": "code",
   "execution_count": null,
   "metadata": {},
   "outputs": [],
   "source": [
    "meyveler = {1 : \"Elma\", 2 : \"Portakal\", 3 : \"Çilek\", 4 : \"Yumurta\", 5 : \"Havuç\", 6 : \"Armut\"}\n",
    "sepet = []\n",
    "\n",
    "while True:\n",
    "    for i, j in meyveler.items():\n",
    "        print(f\"{i}: {j}\")\n",
    "\n",
    "    secim = input(\"Lütfen eklemek istediğiniz meyvenin kodunu yazınız. Çıkış için 'q' harfine basabilirsiniz: \")\n",
    "\n",
    "    if secim.lower() == \"q\":\n",
    "        break\n",
    "\n",
    "    if secim.isdigit() and int(secim) in meyveler:\n",
    "        secilen_meyve = meyveler[int(secim)]\n",
    "        sepet.append(secilen_meyve)\n",
    "        print(f\"{secilen_meyve} sepetinize eklediniz, tebrikler!\")\n",
    "        print(\"Sepetiniz:\", sepet)\n",
    "    else:\n",
    "        print(\"Lütfen girdiğiniz kodu kontrol ediniz.\")\n",
    "\n",
    "print(\"Teşekkür ederiz. Sepetinizdeki ürünler şunlardır:\", sepet)"
   ]
  }
 ],
 "metadata": {
  "language_info": {
   "name": "python"
  }
 },
 "nbformat": 4,
 "nbformat_minor": 2
}
