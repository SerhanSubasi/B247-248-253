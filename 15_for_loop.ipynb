{
 "cells": [
  {
   "cell_type": "markdown",
   "metadata": {},
   "source": [
    "#### For loop"
   ]
  },
  {
   "cell_type": "code",
   "execution_count": 2,
   "metadata": {},
   "outputs": [
    {
     "name": "stdout",
     "output_type": "stream",
     "text": [
      "t\n",
      "e\n",
      "c\n",
      "h\n",
      "p\n",
      "r\n",
      "o\n"
     ]
    }
   ],
   "source": [
    "for i in \"techpro\": #for döngüsü iterablelarla çalışır, gelen değer sürekli değişir ve o değeri alarak devam eder.\n",
    "    print(i) #while gibi koşulu yoktur dümdüz çalışmaya hazır asker gibidir.\n",
    "    #for döngüsünün sınırı vardır o da en sonuncu index."
   ]
  },
  {
   "cell_type": "markdown",
   "metadata": {},
   "source": [
    "#### for loop da her zaman iterater vardır. body kısmı bu iterater bitene kadar devam eder. sayac var\n",
    "   #### while loop da condition giriyoruz. durumu kontrol ediyor. anahtar bir şarta bağlı. bir döng var\n",
    "  #### while loop da condition True ise sonsuza kadar döner break ile yada false ile sona erer."
   ]
  },
  {
   "cell_type": "code",
   "execution_count": 1,
   "metadata": {},
   "outputs": [
    {
     "name": "stdout",
     "output_type": "stream",
     "text": [
      "1\n",
      "4\n",
      "9\n",
      "16\n",
      "25\n"
     ]
    }
   ],
   "source": [
    "liste_2 = [1,2,3,4,5]\n",
    "\n",
    "for i in liste_2:\n",
    "    print(i ** 2)"
   ]
  },
  {
   "cell_type": "code",
   "execution_count": 3,
   "metadata": {},
   "outputs": [
    {
     "name": "stdout",
     "output_type": "stream",
     "text": [
      "1\n",
      "4\n",
      "9\n",
      "16\n",
      "25\n"
     ]
    }
   ],
   "source": [
    "x = 0\n",
    "\n",
    "while x < len(liste_2):\n",
    "    print(liste_2[x] ** 2)\n",
    "\n",
    "    x += 1"
   ]
  },
  {
   "cell_type": "code",
   "execution_count": 4,
   "metadata": {},
   "outputs": [
    {
     "name": "stdout",
     "output_type": "stream",
     "text": [
      "1: 1\n",
      "2: 4\n",
      "3: 9\n",
      "4: 16\n",
      "5: 25\n"
     ]
    }
   ],
   "source": [
    "\n",
    "for i in (1,2,3,4,5): #illa değişkene atamaya gerek yok.\n",
    "    print(f\"{i}: {i ** 2}\") #f string ile derli toplu yazma örneği."
   ]
  },
  {
   "cell_type": "code",
   "execution_count": null,
   "metadata": {},
   "outputs": [],
   "source": [
    "for i in 1453: #iterable olmadığı için integerlar hata gelecek.\n",
    "    print(i) #HATA"
   ]
  },
  {
   "cell_type": "code",
   "execution_count": 5,
   "metadata": {},
   "outputs": [
    {
     "data": {
      "text/plain": [
       "False"
      ]
     },
     "execution_count": 5,
     "metadata": {},
     "output_type": "execute_result"
    }
   ],
   "source": [
    "\"a\" in \"hello\" #a, hello'nun içerisinde var mı? EK BİLGİ"
   ]
  },
  {
   "cell_type": "code",
   "execution_count": 6,
   "metadata": {},
   "outputs": [],
   "source": [
    "isimler_listesi = [\"erkan\", \"medine\", \"mustafa\",\"metehan\"]"
   ]
  },
  {
   "cell_type": "code",
   "execution_count": 8,
   "metadata": {},
   "outputs": [
    {
     "name": "stdout",
     "output_type": "stream",
     "text": [
      "Erkan\n",
      "Medine\n",
      "Mustafa\n",
      "Metehan\n"
     ]
    }
   ],
   "source": [
    "for i in isimler_listesi: #her elemanı (isimler) gezerek baş harflerini büyüttük.\n",
    "    print(i.capitalize())"
   ]
  },
  {
   "cell_type": "code",
   "execution_count": 18,
   "metadata": {},
   "outputs": [
    {
     "name": "stdout",
     "output_type": "stream",
     "text": [
      "T-e-c-h-p-r-o-"
     ]
    }
   ],
   "source": [
    "for i in \"Techpro\":\n",
    "    print(i, end=\"-\") # bu yetersiz ve sep kullanılamama sebebi tek eleman içeriyor olması her seferinde."
   ]
  },
  {
   "cell_type": "code",
   "execution_count": 26,
   "metadata": {},
   "outputs": [
    {
     "name": "stdout",
     "output_type": "stream",
     "text": [
      "T-e-c-h-p-r-o\n"
     ]
    }
   ],
   "source": [
    "str = \"\"\n",
    "for i in \"Techpro\":\n",
    "    str += i + \"-\"  #concat işlemi ile ekledik.\n",
    "print(str.rstrip(\"-\"))  #strip ile sonuncuyu temizledik"
   ]
  },
  {
   "cell_type": "code",
   "execution_count": 27,
   "metadata": {},
   "outputs": [
    {
     "data": {
      "text/plain": [
       "{'name': 'dilek', 'age': 26, 'job': 'data_scientist'}"
      ]
     },
     "execution_count": 27,
     "metadata": {},
     "output_type": "execute_result"
    }
   ],
   "source": [
    "dict_1 = {\"name\": \"dilek\", \"age\" : 26, \"job\" : \"data_scientist\"}\n",
    "dict_1"
   ]
  },
  {
   "cell_type": "code",
   "execution_count": 30,
   "metadata": {},
   "outputs": [
    {
     "name": "stdout",
     "output_type": "stream",
     "text": [
      "name\n",
      "age\n",
      "job\n"
     ]
    }
   ],
   "source": [
    "for i in dict_1: #basic haliyle sadece keylere ulaşırız.\n",
    "    print(i)"
   ]
  },
  {
   "cell_type": "code",
   "execution_count": 31,
   "metadata": {},
   "outputs": [
    {
     "name": "stdout",
     "output_type": "stream",
     "text": [
      "dilek\n",
      "26\n",
      "data_scientist\n"
     ]
    }
   ],
   "source": [
    "for i in dict_1.values(): # valueleri almak için böyle yapıyoruz\n",
    "    print(i)"
   ]
  },
  {
   "cell_type": "code",
   "execution_count": 32,
   "metadata": {},
   "outputs": [
    {
     "name": "stdout",
     "output_type": "stream",
     "text": [
      "('name', 'dilek')\n",
      "('age', 26)\n",
      "('job', 'data_scientist')\n"
     ]
    }
   ],
   "source": [
    "for i in dict_1.items(): # ikisine birden ulaşmak için ise items kullanırız (tuple döndürür)\n",
    "    print(i)"
   ]
  },
  {
   "cell_type": "code",
   "execution_count": 35,
   "metadata": {},
   "outputs": [
    {
     "name": "stdout",
     "output_type": "stream",
     "text": [
      "name**dilek\n",
      "age**26\n",
      "job**data_scientist\n"
     ]
    }
   ],
   "source": [
    "for i, j in dict_1.items():  # i ve j ile birlikte yazarsak sep kullanabiliriz çünkü iki değer oldu artık.\n",
    "    print(i,j, sep=\"**\") # i key, j value olmuş oldu."
   ]
  },
  {
   "cell_type": "code",
   "execution_count": 37,
   "metadata": {},
   "outputs": [
    {
     "name": "stdout",
     "output_type": "stream",
     "text": [
      "key: name, value: dilek\n",
      "key: age, value: 26\n",
      "key: job, value: data_scientist\n"
     ]
    }
   ],
   "source": [
    "for i, j in dict_1.items():  \n",
    "    print(f\"key: {i}, value: {j}\") "
   ]
  },
  {
   "cell_type": "code",
   "execution_count": 38,
   "metadata": {},
   "outputs": [
    {
     "data": {
      "text/plain": [
       "{'name': 'dilek', 'surname': 'yılmaz', 'job': 'data_scientist'}"
      ]
     },
     "execution_count": 38,
     "metadata": {},
     "output_type": "execute_result"
    }
   ],
   "source": [
    "dict_2 = {\"name\": \"dilek\", \"surname\" : \"yılmaz\", \"job\" : \"data_scientist\"}\n",
    "dict_2"
   ]
  },
  {
   "cell_type": "code",
   "execution_count": 39,
   "metadata": {},
   "outputs": [
    {
     "name": "stdout",
     "output_type": "stream",
     "text": [
      "key: name, value: dilek\n",
      "key: surname, value: yılmaz\n",
      "key: job, value: data_scientist\n"
     ]
    }
   ],
   "source": [
    "for i, j in dict_2.items():  \n",
    "    print(f\"key: {i}, value: {j}\") "
   ]
  },
  {
   "cell_type": "markdown",
   "metadata": {},
   "source": [
    "#### güzel yazı ipuçları"
   ]
  },
  {
   "cell_type": "code",
   "execution_count": 41,
   "metadata": {},
   "outputs": [
    {
     "name": "stdout",
     "output_type": "stream",
     "text": [
      "key: name      , value: dilek\n",
      "key: surname   , value: yılmaz\n",
      "key: job       , value: data_scientist\n"
     ]
    }
   ],
   "source": [
    "for i, j in dict_2.items():  \n",
    "    print(f\"key: {i: <10}, value: {j}\") # i : <10 demek, 10 karakterlik bir alan aç ve bu ifadeleri sola (<) yasla demektir."
   ]
  },
  {
   "cell_type": "code",
   "execution_count": 42,
   "metadata": {},
   "outputs": [
    {
     "name": "stdout",
     "output_type": "stream",
     "text": [
      "key:       name, value: dilek\n",
      "key:    surname, value: yılmaz\n",
      "key:        job, value: data_scientist\n"
     ]
    }
   ],
   "source": [
    "for i, j in dict_2.items():  \n",
    "    print(f\"key: {i: >10}, value: {j}\") # i : <10 demek, 10 karakterlik bir alan aç ve bu ifadeleri sağa (>) yasla demektir."
   ]
  },
  {
   "cell_type": "code",
   "execution_count": 43,
   "metadata": {},
   "outputs": [
    {
     "name": "stdout",
     "output_type": "stream",
     "text": [
      "key:       name, value:      dilek     \n",
      "key:    surname, value:     yılmaz     \n",
      "key:        job, value: data_scientist \n"
     ]
    }
   ],
   "source": [
    "for i, j in dict_2.items():  \n",
    "    print(f\"key: {i: >10}, value: {j: ^15}\")  # j: ^15  ile 15 karakter açtırdık ve ortalattık."
   ]
  },
  {
   "cell_type": "code",
   "execution_count": 49,
   "metadata": {},
   "outputs": [
    {
     "data": {
      "text/plain": [
       "'      techpro       '"
      ]
     },
     "execution_count": 49,
     "metadata": {},
     "output_type": "execute_result"
    }
   ],
   "source": [
    "\"techpro\".center(20) # 20 karakter açtı ve ortaladı."
   ]
  },
  {
   "cell_type": "code",
   "execution_count": 51,
   "metadata": {},
   "outputs": [
    {
     "data": {
      "text/plain": [
       "'             techpro'"
      ]
     },
     "execution_count": 51,
     "metadata": {},
     "output_type": "execute_result"
    }
   ],
   "source": [
    "\"techpro\".rjust(20) # 20 karakter açtı ve sağa yasladı"
   ]
  },
  {
   "cell_type": "code",
   "execution_count": 52,
   "metadata": {},
   "outputs": [
    {
     "data": {
      "text/plain": [
       "'techpro             '"
      ]
     },
     "execution_count": 52,
     "metadata": {},
     "output_type": "execute_result"
    }
   ],
   "source": [
    "\"techpro\".ljust(20) # 20 karakter açtı ve sola yasladı"
   ]
  },
  {
   "cell_type": "code",
   "execution_count": null,
   "metadata": {},
   "outputs": [],
   "source": [
    "for i in True: #bool iterable olmadığı için çalışmaz\n",
    "    print(i)"
   ]
  },
  {
   "cell_type": "code",
   "execution_count": 47,
   "metadata": {},
   "outputs": [
    {
     "name": "stdout",
     "output_type": "stream",
     "text": [
      "t\n",
      "e\n",
      "c\n",
      "h\n",
      "p\n",
      "r\n",
      "o\n"
     ]
    }
   ],
   "source": [
    "liste = [\"sonsuz döngü\"]\n",
    "for i in liste:\n",
    "    print(i)\n",
    "    liste .append(i)    # SONSUZ DÖNGÜ -listenin ilk elemanını alıp sonra hep i değerini eklemeye başlar."
   ]
  },
  {
   "cell_type": "code",
   "execution_count": null,
   "metadata": {},
   "outputs": [],
   "source": [
    "# for döngüsünde listlerde append kullanacaksak sıfırdan bir boş liste oluşturmalıyız."
   ]
  },
  {
   "cell_type": "code",
   "execution_count": null,
   "metadata": {},
   "outputs": [],
   "source": [
    "for i in range(1,51):  \n",
    "    print(i,\" hoca bize ceza verdi\")\n"
   ]
  },
  {
   "cell_type": "code",
   "execution_count": 56,
   "metadata": {},
   "outputs": [
    {
     "name": "stdout",
     "output_type": "stream",
     "text": [
      "1  - Hiç kıyamam ki\n",
      "2  - Hiç kıyamam ki\n",
      "3  - Hiç kıyamam ki\n",
      "4  - Hiç kıyamam ki\n",
      "5  - Hiç kıyamam ki\n",
      "6  - Hiç kıyamam ki\n",
      "7  - Hiç kıyamam ki\n",
      "8  - Hiç kıyamam ki\n",
      "9  - Hiç kıyamam ki\n",
      "10 - Hiç kıyamam ki\n",
      "11 - Hiç kıyamam ki\n",
      "12 - Hiç kıyamam ki\n",
      "13 - Hiç kıyamam ki\n",
      "14 - Hiç kıyamam ki\n",
      "15 - Hiç kıyamam ki\n",
      "16 - Hiç kıyamam ki\n",
      "17 - Hiç kıyamam ki\n",
      "18 - Hiç kıyamam ki\n",
      "19 - Hiç kıyamam ki\n",
      "20 - Hiç kıyamam ki\n",
      "21 - Hiç kıyamam ki\n",
      "22 - Hiç kıyamam ki\n",
      "23 - Hiç kıyamam ki\n",
      "24 - Hiç kıyamam ki\n",
      "25 - Hiç kıyamam ki\n",
      "26 - Hiç kıyamam ki\n",
      "27 - Hiç kıyamam ki\n",
      "28 - Hiç kıyamam ki\n",
      "29 - Hiç kıyamam ki\n",
      "30 - Hiç kıyamam ki\n",
      "31 - Hiç kıyamam ki\n",
      "32 - Hiç kıyamam ki\n",
      "33 - Hiç kıyamam ki\n",
      "34 - Hiç kıyamam ki\n",
      "35 - Hiç kıyamam ki\n",
      "36 - Hiç kıyamam ki\n",
      "37 - Hiç kıyamam ki\n",
      "38 - Hiç kıyamam ki\n",
      "39 - Hiç kıyamam ki\n",
      "40 - Hiç kıyamam ki\n",
      "41 - Hiç kıyamam ki\n",
      "42 - Hiç kıyamam ki\n",
      "43 - Hiç kıyamam ki\n",
      "44 - Hiç kıyamam ki\n",
      "45 - Hiç kıyamam ki\n",
      "46 - Hiç kıyamam ki\n",
      "47 - Hiç kıyamam ki\n",
      "48 - Hiç kıyamam ki\n",
      "49 - Hiç kıyamam ki\n",
      "50 - Hiç kıyamam ki\n"
     ]
    }
   ],
   "source": [
    "for i in range(1,51):  \n",
    "    print(f\"{i : <2} - Hiç kıyamam ki\")"
   ]
  },
  {
   "cell_type": "markdown",
   "metadata": {},
   "source": [
    "ÖDEV 1: Kullanıcıdan 1 ve 9 dahil bir sayı isteyin,bu sayının çarpım tablosunu oluşturun."
   ]
  },
  {
   "cell_type": "markdown",
   "metadata": {},
   "source": [
    "ÖDEV 2: Kullanıcıdan 1 ve 9 dahil bir sayı isteyin,bu sayının çarpım tablosunu oluşturun. Kullanıcı bu aralıktan farklı bir değer girdiyse tekrar doğru değeri girmesini isteyin. + while var bu soruda."
   ]
  },
  {
   "cell_type": "code",
   "execution_count": 12,
   "metadata": {},
   "outputs": [
    {
     "name": "stdout",
     "output_type": "stream",
     "text": [
      "3 x 1  = 1\n",
      "3 x 2  = 2\n",
      "3 x 3  = 3\n",
      "3 x 4  = 4\n",
      "3 x 5  = 5\n",
      "3 x 6  = 6\n",
      "3 x 7  = 7\n",
      "3 x 8  = 8\n",
      "3 x 9  = 9\n",
      "3 x 10 = 10\n"
     ]
    }
   ],
   "source": [
    "sayı = int(input(\"Lütfen çarpım tablosunu oluşturmak için 1-9 arasında bir rakam giriniz\"))\n",
    "\n",
    "for i in range(1,11):\n",
    "    print(f\"{sayı : <2}x {i : <2} = {sayi * i}\")"
   ]
  },
  {
   "cell_type": "markdown",
   "metadata": {},
   "source": [
    "ÖDEV 2: Kullanıcıdan 1 ve 9 dahil bir sayı isteyin,bu sayının çarpım tablosunu oluşturun. Kullanıcı bu aralıktan farklı bir değer girdiyse tekrar doğru değeri girmesini isteyin. + while var bu soruda."
   ]
  },
  {
   "cell_type": "code",
   "execution_count": 15,
   "metadata": {},
   "outputs": [
    {
     "name": "stdout",
     "output_type": "stream",
     "text": [
      "Lütfen değeri 1-9 arasında giriniz\n",
      "Lütfen değeri 1-9 arasında giriniz\n",
      "5 x 1  = 1\n",
      "5 x 2  = 2\n",
      "5 x 3  = 3\n",
      "5 x 4  = 4\n",
      "5 x 5  = 5\n",
      "5 x 6  = 6\n",
      "5 x 7  = 7\n",
      "5 x 8  = 8\n",
      "5 x 9  = 9\n",
      "5 x 10 = 10\n"
     ]
    }
   ],
   "source": [
    "\n",
    "\n",
    "while True:\n",
    "    \n",
    "    sayı = int(input(\"Lütfen çarpım tablosunu oluşturmak için 1-9 arasında bir rakam giriniz\"))\n",
    "\n",
    "    if 1 <= sayı <= 9:\n",
    "        break\n",
    "\n",
    "    else:\n",
    "        print(\"Lütfen değeri 1-9 arasında giriniz\")\n",
    "        \n",
    "        \n",
    "for i in range(1,11):\n",
    "    print(f\"{sayı : <2}x {i : <2} = {sayi * i}\")\n",
    "            \n",
    "\n"
   ]
  }
 ],
 "metadata": {
  "kernelspec": {
   "display_name": "Python 3",
   "language": "python",
   "name": "python3"
  },
  "language_info": {
   "codemirror_mode": {
    "name": "ipython",
    "version": 3
   },
   "file_extension": ".py",
   "mimetype": "text/x-python",
   "name": "python",
   "nbconvert_exporter": "python",
   "pygments_lexer": "ipython3",
   "version": "3.12.1"
  }
 },
 "nbformat": 4,
 "nbformat_minor": 2
}
