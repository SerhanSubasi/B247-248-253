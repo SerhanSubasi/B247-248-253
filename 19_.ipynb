{
 "cells": [
  {
   "cell_type": "code",
   "execution_count": 2,
   "metadata": {},
   "outputs": [
    {
     "name": "stdout",
     "output_type": "stream",
     "text": [
      "713 sayısı asal sayı değildir\n"
     ]
    }
   ],
   "source": [
    "x = int(input(\"Bir sayı giriniz\"))\n",
    "\n",
    "if x > 1:\n",
    "\n",
    "    count = 0\n",
    "    for i in range(2,x):  # 1 ve kendisi dahil değil aradakilere göre yazıyoruz kodu ki bölünüyorsa değildir diye\n",
    "        if x % i == 0:\n",
    "            count += 1  # eğer bölünüyorsa count arttı ve asal olmadığı anlaşıldı.\n",
    "\n",
    "    if count == 0:\n",
    "        print(f\"{x} sayısı asal sayıdır\")\n",
    "    else:\n",
    "        print(f\"{x} sayısı asal sayı değildir\")\n",
    "        \n",
    "else:\n",
    "    print(f\"girilen değer 1'den büyük olmalıdır\")"
   ]
  },
  {
   "cell_type": "code",
   "execution_count": 4,
   "metadata": {},
   "outputs": [],
   "source": [
    "def find_prime_number(x):\n",
    "    \"\"\" Bu fonksiyon sayının asalsayı olup olmadığını kontrol eder. \"\"\"\n",
    "\n",
    "    if x > 1:\n",
    "        \n",
    "        for i in range(2,x):\n",
    "\n",
    "            if x % i == 0:\n",
    "                print(\"Sayı asal değildir.\")\n",
    "                break\n",
    "\n",
    "        else:\n",
    "            return f\"{x} sayısı asal sayıdır.\"\n",
    "            \n",
    "    else:\n",
    "        return f\"girdiğiniz sayı {x}. 1'den büyük olmalıdır.\""
   ]
  },
  {
   "cell_type": "code",
   "execution_count": 5,
   "metadata": {},
   "outputs": [
    {
     "data": {
      "text/plain": [
       "5"
      ]
     },
     "execution_count": 5,
     "metadata": {},
     "output_type": "execute_result"
    }
   ],
   "source": [
    "find_prime_number(5)"
   ]
  },
  {
   "cell_type": "code",
   "execution_count": 7,
   "metadata": {},
   "outputs": [],
   "source": [
    "def find_prime_number_2(x):\n",
    "    \"\"\" Bu fonksiyon sayının asalsayı olup olmadığını kontrol eder. \"\"\"\n",
    "\n",
    "    if x > 1:\n",
    "        \n",
    "        for i in range(2,x):\n",
    "\n",
    "            if x % i == 0:\n",
    "                break\n",
    "\n",
    "        else:\n",
    "            return x\n",
    "            \n",
    "    else:\n",
    "        return f\"girdiğiniz sayı {x}. 1'den büyük olmalıdır.\""
   ]
  },
  {
   "cell_type": "code",
   "execution_count": 8,
   "metadata": {},
   "outputs": [
    {
     "data": {
      "text/plain": [
       "5"
      ]
     },
     "execution_count": 8,
     "metadata": {},
     "output_type": "execute_result"
    }
   ],
   "source": [
    "find_prime_number_2(5)"
   ]
  },
  {
   "cell_type": "code",
   "execution_count": 9,
   "metadata": {},
   "outputs": [
    {
     "name": "stdout",
     "output_type": "stream",
     "text": [
      "[2, 3, 5, 7, 11, 13, 17, 19, 23, 29, 31, 37, 41, 43, 47, 53, 59, 61, 67, 71, 73, 79, 83, 89, 97, 101, 103, 107, 109, 113, 127, 131, 137, 139, 149, 151, 157, 163, 167, 173, 179, 181, 191, 193, 197, 199, 211, 223, 227, 229, 233, 239, 241, 251, 257, 263, 269, 271, 277, 281, 283, 293, 307, 311, 313, 317, 331, 337, 347, 349, 353, 359, 367, 373, 379, 383, 389, 397, 401, 409, 419, 421, 431, 433, 439, 443, 449, 457, 461, 463, 467, 479, 487, 491, 499, 503, 509, 521, 523, 541, 547, 557, 563, 569, 571, 577, 587, 593, 599, 601, 607, 613, 617, 619, 631, 641, 643, 647, 653, 659, 661, 673, 677, 683, 691, 701, 709, 719, 727, 733, 739, 743, 751, 757, 761, 769, 773, 787, 797, 809, 811, 821, 823, 827, 829, 839, 853, 857, 859, 863, 877, 881, 883, 887, 907, 911, 919, 929, 937, 941, 947, 953, 967, 971, 977, 983, 991, 997]\n"
     ]
    }
   ],
   "source": [
    "result = []\n",
    "\n",
    "for i in range(2,1001):\n",
    "    if find_prime_number_2(i) != None:\n",
    "        result.append(i)\n",
    "print(result)"
   ]
  },
  {
   "cell_type": "markdown",
   "metadata": {},
   "source": [
    "## positional and Keyword arguments"
   ]
  },
  {
   "cell_type": "code",
   "execution_count": 1,
   "metadata": {},
   "outputs": [],
   "source": [
    "def my_name(first_name,last_name):\n",
    "    \n",
    "    print(f\"My name is {first_name} {last_name}\")\n",
    "    "
   ]
  },
  {
   "cell_type": "code",
   "execution_count": 2,
   "metadata": {},
   "outputs": [
    {
     "name": "stdout",
     "output_type": "stream",
     "text": [
      "My name is Serhan SUBAŞI\n"
     ]
    }
   ],
   "source": [
    "my_name(\"Serhan\",\"SUBAŞI\") #Burada pozisyon önemlidir."
   ]
  },
  {
   "cell_type": "code",
   "execution_count": 3,
   "metadata": {},
   "outputs": [
    {
     "name": "stdout",
     "output_type": "stream",
     "text": [
      "My name is SUBAŞI Serhan\n"
     ]
    }
   ],
   "source": [
    "my_name(\"SUBAŞI\",\"Serhan\")"
   ]
  },
  {
   "cell_type": "code",
   "execution_count": 6,
   "metadata": {},
   "outputs": [
    {
     "name": "stdout",
     "output_type": "stream",
     "text": [
      "My name is Serhan SUBAŞI\n"
     ]
    }
   ],
   "source": [
    "my_name(last_name=\"SUBAŞI\", first_name=\"Serhan\") # Ters girmemize rağmen bu şekilde yazınca düzgün verdi, assign ettik gibi oldu."
   ]
  },
  {
   "cell_type": "code",
   "execution_count": 8,
   "metadata": {},
   "outputs": [
    {
     "ename": "TypeError",
     "evalue": "my_name() missing 1 required positional argument: 'last_name'",
     "output_type": "error",
     "traceback": [
      "\u001b[1;31m---------------------------------------------------------------------------\u001b[0m",
      "\u001b[1;31mTypeError\u001b[0m                                 Traceback (most recent call last)",
      "Cell \u001b[1;32mIn[8], line 1\u001b[0m\n\u001b[1;32m----> 1\u001b[0m \u001b[43mmy_name\u001b[49m\u001b[43m(\u001b[49m\u001b[38;5;124;43m\"\u001b[39;49m\u001b[38;5;124;43mSerhan\u001b[39;49m\u001b[38;5;124;43m\"\u001b[39;49m\u001b[43m)\u001b[49m \u001b[38;5;66;03m# Hata çünkü 2 tane girilmeli, missing argument verdi.\u001b[39;00m\n",
      "\u001b[1;31mTypeError\u001b[0m: my_name() missing 1 required positional argument: 'last_name'"
     ]
    }
   ],
   "source": [
    "my_name(\"Serhan\") # Hata çünkü 2 tane girilmeli, missing argument verdi."
   ]
  },
  {
   "cell_type": "code",
   "execution_count": 3,
   "metadata": {},
   "outputs": [],
   "source": [
    "def your_name(first_name,last_name = \"Subaşı\"): #last name'i fonksiyonu tanımlama aşamasında yazıyoruz. Default böyle eklenir!\n",
    "    print(f\"My name is {first_name} {last_name}\")"
   ]
  },
  {
   "cell_type": "code",
   "execution_count": 5,
   "metadata": {},
   "outputs": [
    {
     "name": "stdout",
     "output_type": "stream",
     "text": [
      "My name is Serhan Subaşı\n"
     ]
    }
   ],
   "source": [
    "your_name(\"Serhan\") #Artık bir default değeri var, sadece 1 parametre yazsak bile hata almıyoruz."
   ]
  },
  {
   "cell_type": "code",
   "execution_count": 7,
   "metadata": {},
   "outputs": [
    {
     "name": "stdout",
     "output_type": "stream",
     "text": [
      "My name is Fulya Çelebi\n"
     ]
    }
   ],
   "source": [
    "your_name(\"Fulya\", \"Çelebi\") #Default değer değişti, hata vermedi. "
   ]
  },
  {
   "cell_type": "code",
   "execution_count": 8,
   "metadata": {},
   "outputs": [
    {
     "ename": "SyntaxError",
     "evalue": "positional argument follows keyword argument (2612824670.py, line 1)",
     "output_type": "error",
     "traceback": [
      "\u001b[1;36m  Cell \u001b[1;32mIn[8], line 1\u001b[1;36m\u001b[0m\n\u001b[1;33m    your_name(last_name=\"yıldız\",\"murat\")\u001b[0m\n\u001b[1;37m                                        ^\u001b[0m\n\u001b[1;31mSyntaxError\u001b[0m\u001b[1;31m:\u001b[0m positional argument follows keyword argument\n"
     ]
    }
   ],
   "source": [
    "your_name(last_name=\"yıldız\",\"murat\") #Syntax hatası! keyword argument. Varsayılan değeri positional'dan önce yazamayız."
   ]
  },
  {
   "cell_type": "code",
   "execution_count": 9,
   "metadata": {},
   "outputs": [
    {
     "name": "stdout",
     "output_type": "stream",
     "text": [
      "My name is murat yıldız\n"
     ]
    }
   ],
   "source": [
    "your_name(\"murat\",last_name=\"yıldız\") #Böyle olmalıdır. "
   ]
  },
  {
   "cell_type": "code",
   "execution_count": null,
   "metadata": {},
   "outputs": [],
   "source": [
    "def your_name_2(first_name, second_name = \"Ali\", last_name):  #Hata. Default'tan sonra positional yeni bir değer eklenemez.\n",
    "    print(f\"My name is {first_name} {second_name} {last_name}\")"
   ]
  },
  {
   "cell_type": "code",
   "execution_count": 10,
   "metadata": {},
   "outputs": [],
   "source": [
    "def your_name_2(first_name, last_name,  second_name = \"Ali\"):\n",
    "    print(f\"My name is {first_name} {second_name} {last_name}\")"
   ]
  },
  {
   "cell_type": "code",
   "execution_count": 11,
   "metadata": {},
   "outputs": [
    {
     "name": "stdout",
     "output_type": "stream",
     "text": [
      "My name is Serhan Ali Subaşı\n"
     ]
    }
   ],
   "source": [
    "your_name_2(\"Serhan\", \"Subaşı\")"
   ]
  },
  {
   "cell_type": "code",
   "execution_count": 14,
   "metadata": {},
   "outputs": [],
   "source": [
    "def tek_sayılar(a,b,c,d,e):\n",
    "\n",
    "    tek_sayılar = []\n",
    "\n",
    "    for i in a,b,c,d,e:\n",
    "\n",
    "        if i % 2:\n",
    "            tek_sayılar.append(i)\n",
    "\n",
    "    return tek_sayılar"
   ]
  },
  {
   "cell_type": "code",
   "execution_count": 15,
   "metadata": {},
   "outputs": [
    {
     "data": {
      "text/plain": [
       "[75, 45, 15]"
      ]
     },
     "execution_count": 15,
     "metadata": {},
     "output_type": "execute_result"
    }
   ],
   "source": [
    "tek_sayılar(4,75,45,26,15)"
   ]
  },
  {
   "cell_type": "code",
   "execution_count": 16,
   "metadata": {},
   "outputs": [
    {
     "ename": "TypeError",
     "evalue": "tek_sayılar() missing 1 required positional argument: 'e'",
     "output_type": "error",
     "traceback": [
      "\u001b[1;31m---------------------------------------------------------------------------\u001b[0m",
      "\u001b[1;31mTypeError\u001b[0m                                 Traceback (most recent call last)",
      "Cell \u001b[1;32mIn[16], line 1\u001b[0m\n\u001b[1;32m----> 1\u001b[0m \u001b[43mtek_sayılar\u001b[49m\u001b[43m(\u001b[49m\u001b[38;5;241;43m4\u001b[39;49m\u001b[43m,\u001b[49m\u001b[38;5;241;43m75\u001b[39;49m\u001b[43m,\u001b[49m\u001b[38;5;241;43m45\u001b[39;49m\u001b[43m,\u001b[49m\u001b[38;5;241;43m26\u001b[39;49m\u001b[43m)\u001b[49m \u001b[38;5;66;03m#HATA missing argument\u001b[39;00m\n",
      "\u001b[1;31mTypeError\u001b[0m: tek_sayılar() missing 1 required positional argument: 'e'"
     ]
    }
   ],
   "source": [
    "tek_sayılar(4,75,45,26) #HATA missing argument"
   ]
  },
  {
   "cell_type": "markdown",
   "metadata": {},
   "source": [
    "## Arbitrary Number of Arguments(* args, **kwargs)"
   ]
  },
  {
   "cell_type": "markdown",
   "metadata": {},
   "source": [
    "## *args"
   ]
  },
  {
   "cell_type": "code",
   "execution_count": 25,
   "metadata": {},
   "outputs": [],
   "source": [
    "def tek_sayılar_2(* sayılar):  #Artık kaç tane olduğunun önemi yok  * ile. İçerisine kaç eleman vereceğimizi bilmiyorsak kullanırız.\n",
    "\n",
    "    tek_sayılar = []\n",
    "\n",
    "    for i in sayılar:\n",
    "\n",
    "        if i % 2:\n",
    "            tek_sayılar.append(i)\n",
    "\n",
    "    return tek_sayılar"
   ]
  },
  {
   "cell_type": "code",
   "execution_count": 18,
   "metadata": {},
   "outputs": [
    {
     "data": {
      "text/plain": [
       "[25, 15, 17]"
      ]
     },
     "execution_count": 18,
     "metadata": {},
     "output_type": "execute_result"
    }
   ],
   "source": [
    "tek_sayılar_2(4,25,36,15) # 4 tane de girsek hata vermeeeez"
   ]
  },
  {
   "cell_type": "code",
   "execution_count": 19,
   "metadata": {},
   "outputs": [
    {
     "data": {
      "text/plain": [
       "[25, 15, 17, 11, 13]"
      ]
     },
     "execution_count": 19,
     "metadata": {},
     "output_type": "execute_result"
    }
   ],
   "source": [
    "tek_sayılar_2(4,25,36,15,17,11,13) # 7 tane de girsek hata vermez"
   ]
  },
  {
   "cell_type": "markdown",
   "metadata": {},
   "source": [
    "tek karesini çift ise 2 katını\n"
   ]
  },
  {
   "cell_type": "code",
   "execution_count": 21,
   "metadata": {},
   "outputs": [],
   "source": [
    "def tek_cift(* sayılar): \n",
    "\n",
    "    sayılarım = []\n",
    "    \n",
    "\n",
    "    for i in sayılar:\n",
    "\n",
    "        if i % 2:\n",
    "            sayılarım.append(i ** 2)\n",
    "        else:\n",
    "            sayılarım.append(i * 2)\n",
    "\n",
    "    return sayılarım"
   ]
  },
  {
   "cell_type": "code",
   "execution_count": 22,
   "metadata": {},
   "outputs": [
    {
     "data": {
      "text/plain": [
       "[1, 4, 8, 25, 49, 16, 81]"
      ]
     },
     "execution_count": 22,
     "metadata": {},
     "output_type": "execute_result"
    }
   ],
   "source": [
    "tek_cift(1,2,4,5,7,8,9)"
   ]
  },
  {
   "cell_type": "code",
   "execution_count": 26,
   "metadata": {},
   "outputs": [],
   "source": [
    "def tek_çift_fonk(* sayılar):\n",
    "  return  [i* 2 if i % 2 == 0 else i ** 2 for i in sayılar]\n",
    "     "
   ]
  },
  {
   "cell_type": "code",
   "execution_count": 27,
   "metadata": {},
   "outputs": [
    {
     "data": {
      "text/plain": [
       "[1, 4, 9, 8, 25, 12, 49]"
      ]
     },
     "execution_count": 27,
     "metadata": {},
     "output_type": "execute_result"
    }
   ],
   "source": [
    "tek_çift_fonk(1,2,3,4,5,6,7)"
   ]
  },
  {
   "cell_type": "code",
   "execution_count": 28,
   "metadata": {},
   "outputs": [
    {
     "ename": "TypeError",
     "evalue": "unsupported operand type(s) for %: 'range' and 'int'",
     "output_type": "error",
     "traceback": [
      "\u001b[1;31m---------------------------------------------------------------------------\u001b[0m",
      "\u001b[1;31mTypeError\u001b[0m                                 Traceback (most recent call last)",
      "Cell \u001b[1;32mIn[28], line 1\u001b[0m\n\u001b[1;32m----> 1\u001b[0m \u001b[43mtek_çift_fonk\u001b[49m\u001b[43m(\u001b[49m\u001b[38;5;28;43mrange\u001b[39;49m\u001b[43m(\u001b[49m\u001b[38;5;241;43m1\u001b[39;49m\u001b[43m,\u001b[49m\u001b[38;5;241;43m10\u001b[39;49m\u001b[43m)\u001b[49m\u001b[43m)\u001b[49m \u001b[38;5;66;03m#HATA\u001b[39;00m\n",
      "Cell \u001b[1;32mIn[26], line 2\u001b[0m, in \u001b[0;36mtek_çift_fonk\u001b[1;34m(*sayılar)\u001b[0m\n\u001b[0;32m      1\u001b[0m \u001b[38;5;28;01mdef\u001b[39;00m \u001b[38;5;21mtek_çift_fonk\u001b[39m(\u001b[38;5;241m*\u001b[39m sayılar):\n\u001b[1;32m----> 2\u001b[0m   \u001b[38;5;28;01mreturn\u001b[39;00m  [i\u001b[38;5;241m*\u001b[39m\u001b[38;5;241m2\u001b[39m \u001b[38;5;28;01mif\u001b[39;00m \u001b[43mi\u001b[49m\u001b[43m \u001b[49m\u001b[38;5;241;43m%\u001b[39;49m\u001b[43m \u001b[49m\u001b[38;5;241;43m2\u001b[39;49m \u001b[38;5;241m==\u001b[39m \u001b[38;5;241m0\u001b[39m \u001b[38;5;28;01melse\u001b[39;00m i \u001b[38;5;241m*\u001b[39m\u001b[38;5;241m*\u001b[39m\u001b[38;5;241m2\u001b[39m \u001b[38;5;28;01mfor\u001b[39;00m i \u001b[38;5;129;01min\u001b[39;00m sayılar  ]\n",
      "\u001b[1;31mTypeError\u001b[0m: unsupported operand type(s) for %: 'range' and 'int'"
     ]
    }
   ],
   "source": [
    "tek_çift_fonk(range(1,10)) #HATA"
   ]
  },
  {
   "cell_type": "code",
   "execution_count": 29,
   "metadata": {},
   "outputs": [
    {
     "ename": "TypeError",
     "evalue": "unsupported operand type(s) for %: 'list' and 'int'",
     "output_type": "error",
     "traceback": [
      "\u001b[1;31m---------------------------------------------------------------------------\u001b[0m",
      "\u001b[1;31mTypeError\u001b[0m                                 Traceback (most recent call last)",
      "Cell \u001b[1;32mIn[29], line 1\u001b[0m\n\u001b[1;32m----> 1\u001b[0m \u001b[43mtek_çift_fonk\u001b[49m\u001b[43m(\u001b[49m\u001b[38;5;28;43mlist\u001b[39;49m\u001b[43m(\u001b[49m\u001b[38;5;28;43mrange\u001b[39;49m\u001b[43m(\u001b[49m\u001b[38;5;241;43m1\u001b[39;49m\u001b[43m,\u001b[49m\u001b[38;5;241;43m10\u001b[39;49m\u001b[43m)\u001b[49m\u001b[43m)\u001b[49m\u001b[43m)\u001b[49m \u001b[38;5;66;03m#listle çalışınca da HATA\u001b[39;00m\n",
      "Cell \u001b[1;32mIn[26], line 2\u001b[0m, in \u001b[0;36mtek_çift_fonk\u001b[1;34m(*sayılar)\u001b[0m\n\u001b[0;32m      1\u001b[0m \u001b[38;5;28;01mdef\u001b[39;00m \u001b[38;5;21mtek_çift_fonk\u001b[39m(\u001b[38;5;241m*\u001b[39m sayılar):\n\u001b[1;32m----> 2\u001b[0m   \u001b[38;5;28;01mreturn\u001b[39;00m  [i\u001b[38;5;241m*\u001b[39m\u001b[38;5;241m2\u001b[39m \u001b[38;5;28;01mif\u001b[39;00m \u001b[43mi\u001b[49m\u001b[43m \u001b[49m\u001b[38;5;241;43m%\u001b[39;49m\u001b[43m \u001b[49m\u001b[38;5;241;43m2\u001b[39;49m \u001b[38;5;241m==\u001b[39m \u001b[38;5;241m0\u001b[39m \u001b[38;5;28;01melse\u001b[39;00m i \u001b[38;5;241m*\u001b[39m\u001b[38;5;241m*\u001b[39m\u001b[38;5;241m2\u001b[39m \u001b[38;5;28;01mfor\u001b[39;00m i \u001b[38;5;129;01min\u001b[39;00m sayılar  ]\n",
      "\u001b[1;31mTypeError\u001b[0m: unsupported operand type(s) for %: 'list' and 'int'"
     ]
    }
   ],
   "source": [
    "tek_çift_fonk(list(range(1,10))) #listle çalışınca da HATA"
   ]
  },
  {
   "cell_type": "code",
   "execution_count": 31,
   "metadata": {},
   "outputs": [
    {
     "data": {
      "text/plain": [
       "[1, 4, 9, 8, 25, 12, 49, 16, 81]"
      ]
     },
     "execution_count": 31,
     "metadata": {},
     "output_type": "execute_result"
    }
   ],
   "source": [
    "tek_çift_fonk(* range(1,10))  #Ancak başına * eklediğimizde sorun çözülürrr."
   ]
  },
  {
   "cell_type": "code",
   "execution_count": 32,
   "metadata": {},
   "outputs": [
    {
     "name": "stdout",
     "output_type": "stream",
     "text": [
      "s e r h a n\n"
     ]
    }
   ],
   "source": [
    "print(* \"serhan\" ) #ifadeleri ayrı ayrı elemanlara dönüştürür."
   ]
  },
  {
   "cell_type": "code",
   "execution_count": 34,
   "metadata": {},
   "outputs": [
    {
     "ename": "TypeError",
     "evalue": "unsupported operand type(s) for %: 'list' and 'int'",
     "output_type": "error",
     "traceback": [
      "\u001b[1;31m---------------------------------------------------------------------------\u001b[0m",
      "\u001b[1;31mTypeError\u001b[0m                                 Traceback (most recent call last)",
      "Cell \u001b[1;32mIn[34], line 1\u001b[0m\n\u001b[1;32m----> 1\u001b[0m \u001b[43mtek_cift\u001b[49m\u001b[43m(\u001b[49m\u001b[43m[\u001b[49m\u001b[38;5;241;43m1\u001b[39;49m\u001b[43m,\u001b[49m\u001b[38;5;241;43m2\u001b[39;49m\u001b[43m,\u001b[49m\u001b[38;5;241;43m3\u001b[39;49m\u001b[43m,\u001b[49m\u001b[38;5;241;43m4\u001b[39;49m\u001b[43m,\u001b[49m\u001b[38;5;241;43m5\u001b[39;49m\u001b[43m]\u001b[49m\u001b[43m)\u001b[49m \u001b[38;5;66;03m#listeyi kabul etmedi ama normalde çalışabilir for döngüsü. * args'dan dolayı çalışmıyor. illa ayrı istiyor.\u001b[39;00m\n",
      "Cell \u001b[1;32mIn[21], line 8\u001b[0m, in \u001b[0;36mtek_cift\u001b[1;34m(*sayılar)\u001b[0m\n\u001b[0;32m      3\u001b[0m sayılarım \u001b[38;5;241m=\u001b[39m []\n\u001b[0;32m      6\u001b[0m \u001b[38;5;28;01mfor\u001b[39;00m i \u001b[38;5;129;01min\u001b[39;00m sayılar:\n\u001b[1;32m----> 8\u001b[0m     \u001b[38;5;28;01mif\u001b[39;00m \u001b[43mi\u001b[49m\u001b[43m \u001b[49m\u001b[38;5;241;43m%\u001b[39;49m\u001b[43m \u001b[49m\u001b[38;5;241;43m2\u001b[39;49m:\n\u001b[0;32m      9\u001b[0m         sayılarım\u001b[38;5;241m.\u001b[39mappend(i \u001b[38;5;241m*\u001b[39m\u001b[38;5;241m*\u001b[39m \u001b[38;5;241m2\u001b[39m)\n\u001b[0;32m     10\u001b[0m     \u001b[38;5;28;01melse\u001b[39;00m:\n",
      "\u001b[1;31mTypeError\u001b[0m: unsupported operand type(s) for %: 'list' and 'int'"
     ]
    }
   ],
   "source": [
    "tek_cift([1,2,3,4,5]) #listeyi kabul etmedi ama normalde çalışabilir for döngüsü. * args'dan dolayı çalışmıyor. illa ayrı istiyor. o yüzden başıan * koyarız yine"
   ]
  },
  {
   "cell_type": "markdown",
   "metadata": {},
   "source": [
    "## **kwargs"
   ]
  },
  {
   "cell_type": "markdown",
   "metadata": {},
   "source": [
    "Normal argslardan farkı dictionary formatında olmasıdır."
   ]
  },
  {
   "cell_type": "code",
   "execution_count": 35,
   "metadata": {},
   "outputs": [
    {
     "data": {
      "text/plain": [
       "{'name1': 'Serhan', 'name2': 'Fulya', 'name3': 'Medine'}"
      ]
     },
     "execution_count": 35,
     "metadata": {},
     "output_type": "execute_result"
    }
   ],
   "source": [
    "dict_1 = {\"name1\" : \"Serhan\", \"name2\" : \"Fulya\", \"name3\" : \"Medine\"}\n",
    "dict_1"
   ]
  },
  {
   "cell_type": "code",
   "execution_count": 36,
   "metadata": {},
   "outputs": [],
   "source": [
    "def kwargs_function(** kwargs): #artık dictionary oldu parametre ** koyduğumuz için\n",
    "    for i,j in kwargs.items():\n",
    "        print(f\"key: {i} value: {j}\")"
   ]
  },
  {
   "cell_type": "code",
   "execution_count": 37,
   "metadata": {},
   "outputs": [
    {
     "name": "stdout",
     "output_type": "stream",
     "text": [
      "key: name4 value: Ulaş\n",
      "key: name5 value: Umut\n",
      "key: name6 value: Murti\n"
     ]
    }
   ],
   "source": [
    "kwargs_function(name4 = \"Ulaş\", name5 = \"Umut\", name6 = \"Murti\")"
   ]
  },
  {
   "cell_type": "code",
   "execution_count": 38,
   "metadata": {},
   "outputs": [
    {
     "ename": "TypeError",
     "evalue": "kwargs_function() takes 0 positional arguments but 1 was given",
     "output_type": "error",
     "traceback": [
      "\u001b[1;31m---------------------------------------------------------------------------\u001b[0m",
      "\u001b[1;31mTypeError\u001b[0m                                 Traceback (most recent call last)",
      "Cell \u001b[1;32mIn[38], line 1\u001b[0m\n\u001b[1;32m----> 1\u001b[0m \u001b[43mkwargs_function\u001b[49m\u001b[43m(\u001b[49m\u001b[43mdict_1\u001b[49m\u001b[43m)\u001b[49m \u001b[38;5;66;03m#HATA\u001b[39;00m\n",
      "\u001b[1;31mTypeError\u001b[0m: kwargs_function() takes 0 positional arguments but 1 was given"
     ]
    }
   ],
   "source": [
    "kwargs_function(dict_1) #HATA"
   ]
  },
  {
   "cell_type": "code",
   "execution_count": 40,
   "metadata": {},
   "outputs": [
    {
     "name": "stdout",
     "output_type": "stream",
     "text": [
      "key: name1 value: Serhan\n",
      "key: name2 value: Fulya\n",
      "key: name3 value: Medine\n"
     ]
    }
   ],
   "source": [
    "kwargs_function(** dict_1) # ** ekleyerek çalıştırdık."
   ]
  },
  {
   "cell_type": "markdown",
   "metadata": {},
   "source": [
    "Anne, baba ve çocuktan oluşan çekirdek ailenin Süper aile olup olmadığını bulan kodu yazın. isimleri kullanıcıdan isteyin. (Çocuğun ismindeki sessiz harflerin hepsi, anne ve babanın isimlerinde var ise bu aile süper ailedir.(Not: anne ve baba isminden en az bir tane olmalı.). örn1: baba adı = \"Halil\", anne adı= \"Merve\", çocuk adı= \"Veli\" >> Süper aile. (\"v\" anneden, \"l\" babadan) örn2: baba adı = \"Murat\", anne adı= \"Songül\", çocuk adı= \"Mert\" >> Süper aile değil. Anneden harf yok."
   ]
  },
  {
   "cell_type": "code",
   "execution_count": 162,
   "metadata": {},
   "outputs": [
    {
     "name": "stdout",
     "output_type": "stream",
     "text": [
      "İsimleri girilen aile bir süper ailedir\n"
     ]
    }
   ],
   "source": [
    "baba = set(input(\"Lütfen babanın ismini giriniz\"))\n",
    "anne = set(input(\"Lütfen annenin ismini giriniz\"))\n",
    "cocuk = set(input(\"Lütfen çocuğun ismini giriniz\"))\n",
    "\n",
    "sessizler_set=set(\"zyvtşsrpnrmlkhjğgdçcb\")\n",
    "anne_baba_sessizler = set(baba | anne)\n",
    "cocuk_sessizler = set(cocuk & sessizler_set)\n",
    "\n",
    "baba_sessizler = set(baba & sessizler_set) #Kullanılmadı\n",
    "anne_sessizler = set(anne & sessizler_set) #Kullanılmadı\n",
    "\n",
    "\n",
    "\n",
    "if  cocuk_sessizler.issubset(anne_baba_sessizler):\n",
    "    print(\"İsimleri girilen aile bir süper ailedir\")\n",
    "else:\n",
    "    print(\"İsimleri girilen aile bir süper aile değildir\")\n",
    "\n",
    "    "
   ]
  },
  {
   "cell_type": "code",
   "execution_count": 79,
   "metadata": {},
   "outputs": [
    {
     "name": "stdout",
     "output_type": "stream",
     "text": [
      "vl\n",
      " Baba adı halil, anne adı merve, çocuk adı da veli olan aile süper aile değildir.\n"
     ]
    }
   ],
   "source": [
    "baba = \"halil\"\n",
    "anne = \"merve\"\n",
    "cocuk = \"veli\"\n",
    "\n",
    "\n",
    "sessizler = \"zyvtşsrpnrmlkhjğgdçcb\"\n",
    "olanlar = \"\"\n",
    "\n",
    "for i in sessizler:\n",
    "    if i in cocuk:\n",
    "        olanlar += i\n",
    "print(olanlar)\n",
    "\n",
    "if olanlar in baba and olanlar in anne:\n",
    "    print(f\" Baba adı {baba}, anne adı {anne}, çocuk adı da {cocuk} olan aile süper ailedir.\")\n",
    "else:\n",
    "    print(f\" Baba adı {baba}, anne adı {anne}, çocuk adı da {cocuk} olan aile süper aile değildir.\")\n"
   ]
  },
  {
   "cell_type": "code",
   "execution_count": 123,
   "metadata": {},
   "outputs": [
    {
     "name": "stdout",
     "output_type": "stream",
     "text": [
      "snrh\n",
      "r\n",
      "h\n",
      "Baba adı zafer, anne adı hülya, çocuk adı da serhan olan aile süper ailedir.\n"
     ]
    }
   ],
   "source": [
    "baba = \"zafer\"\n",
    "anne = \"hülya\"\n",
    "cocuk = \"serhan\"\n",
    "\n",
    "\n",
    "sessizler = \"zyvtşspnrmlkhjğgdçcb\"\n",
    "olanlar = \"\"\n",
    "babadakiler = \"\"\n",
    "annedekiler = \"\"\n",
    "\n",
    "for i in sessizler:\n",
    "    if i in cocuk:\n",
    "        olanlar += i\n",
    "\n",
    "for i in olanlar:\n",
    "    if i in baba:\n",
    "        babadakiler += i\n",
    "        \n",
    "for i in olanlar:\n",
    "    if i in anne:\n",
    "        annedekiler += i\n",
    "\n",
    "print(olanlar)\n",
    "print(babadakiler)\n",
    "print(annedekiler)   \n",
    "\n",
    "\n",
    "if babadakiler in olanlar and annedekiler in olanlar:\n",
    "    print(f\"Baba adı {baba}, anne adı {anne}, çocuk adı da {cocuk} olan aile süper ailedir.\")\n",
    "else:\n",
    "    print(f\" Baba adı {baba}, anne adı {anne}, çocuk adı da {cocuk} olan aile süper aile değildir.\")\n",
    "\n"
   ]
  },
  {
   "cell_type": "code",
   "execution_count": 94,
   "metadata": {},
   "outputs": [
    {
     "name": "stdout",
     "output_type": "stream",
     "text": [
      "vl\n",
      "l\n",
      "v\n",
      " Baba adı halil, anne adı merve, çocuk adı da veli olan aile süper aile değildir.\n"
     ]
    }
   ],
   "source": [
    "baba = \"halil\"\n",
    "anne = \"merve\"\n",
    "cocuk = \"veli\"\n",
    "\n",
    "\n",
    "sessizler = \"zyvtşspnrmlkhjğgdçcb\"\n",
    "olanlar = \"\"\n",
    "babadakiler = \"\"\n",
    "annedekiler = \"\"\n",
    "\n",
    "for i in sessizler:\n",
    "    if i in cocuk:\n",
    "        olanlar += i\n",
    "\n",
    "for i in olanlar:\n",
    "    if i in baba:\n",
    "        babadakiler += i\n",
    "        \n",
    "for i in olanlar:\n",
    "    if i in anne:\n",
    "        annedekiler += i\n",
    "\n",
    "print(olanlar)\n",
    "print(babadakiler)\n",
    "print(annedekiler)   \n",
    "\n",
    "for i in olanlar:\n",
    "    "
   ]
  },
  {
   "cell_type": "code",
   "execution_count": null,
   "metadata": {},
   "outputs": [],
   "source": [
    "baba = input(\"Babanın ismini giriniz\").lower()\n",
    "anne = input(\"Annenin ismini giriniz\").lower()\n",
    "cocuk = input(\"Cocugun ismini giriniz\").lower()"
   ]
  },
  {
   "cell_type": "code",
   "execution_count": 71,
   "metadata": {},
   "outputs": [
    {
     "name": "stdout",
     "output_type": "stream",
     "text": [
      " Baba adı ['h', 'a', 'l', 'i', 'l'], anne adı ['m', 'e', 'r', 'v', 'e'], çocuk adı da veli olan aile süper aile değildir.\n",
      "['v', 'l']\n"
     ]
    }
   ],
   "source": [
    "baba = \"halil\"\n",
    "anne = \"merve\"\n",
    "cocuk = \"veli\"\n",
    "\n",
    "sessizler_listesi = [\"z\",\"y\",\"v\",\"t\",\"ş\",\"s\",\"r\",\"p\",\"n\",\"r\",\"m\",\"l\",\"k\",\"h\",\"j\",\"ğ\",\"g\",\"d\",\"ç\",\"c\",\"b\"]\n",
    "sessizler = \"zyvtşsrpnrmlkhjğgdçcb\"\n",
    "olanlar = []\n",
    "\n",
    "for i in sessizler_listesi:\n",
    "    if i in cocuk :\n",
    "        olanlar += i\n",
    "\n",
    "if olanlar in baba and olanlar in anne:\n",
    "    print(f\" Baba adı {baba}, anne adı {anne}, çocuk adı da {cocuk} olan aile süper ailedir.\")\n",
    "else:\n",
    "    print(f\" Baba adı {baba}, anne adı {anne}, çocuk adı da {cocuk} olan aile süper aile değildir.\")\n",
    "\n",
    "print(olanlar)"
   ]
  },
  {
   "cell_type": "code",
   "execution_count": null,
   "metadata": {},
   "outputs": [],
   "source": [
    "baba = \"halil\"\n",
    "anne = \"merve\"\n",
    "cocuk = \"veli\"\n",
    "\n",
    "sessizler_listesi = [\"z\",\"y\",\"v\",\"t\",\"ş\",\"s\",\"r\",\"p\",\"n\",\"r\",\"m\",\"l\",\"k\",\"h\",\"j\",\"ğ\",\"g\",\"d\",\"ç\",\"c\",\"b\"]\n",
    "sessizler = \"zyvtşsrpnrmlkhjğgdçcb\"\n",
    "olanlar = []\n",
    "\n",
    "for i in sessizler_listesi:\n",
    "    if i in cocuk :\n",
    "        olanlar += i\n",
    "\n",
    "    if olanlar in baba and olanlar in anne:\n",
    "        print(f\" Baba adı {baba}, anne adı {anne}, çocuk adı da {cocuk} olan aile süper ailedir.\")\n",
    "    else:\n",
    "        print(f\" Baba adı {baba}, anne adı {anne}, çocuk adı da {cocuk} olan aile süper aile değildir.\")"
   ]
  }
 ],
 "metadata": {
  "kernelspec": {
   "display_name": "Python 3",
   "language": "python",
   "name": "python3"
  },
  "language_info": {
   "codemirror_mode": {
    "name": "ipython",
    "version": 3
   },
   "file_extension": ".py",
   "mimetype": "text/x-python",
   "name": "python",
   "nbconvert_exporter": "python",
   "pygments_lexer": "ipython3",
   "version": "3.12.1"
  }
 },
 "nbformat": 4,
 "nbformat_minor": 2
}
