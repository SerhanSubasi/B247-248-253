{
 "cells": [
  {
   "cell_type": "code",
   "execution_count": 4,
   "metadata": {},
   "outputs": [
    {
     "name": "stdout",
     "output_type": "stream",
     "text": [
      "No Micky no that is not so right\n"
     ]
    }
   ],
   "source": [
    "baba = input(\"baba ismi\").lower()\n",
    "anne = input(\"anne ismi\").lower()\n",
    "cocuk = input(\"cocuk ismi\").lower()\n",
    "\n",
    "cocuk_sessiz = \"\"\n",
    "\n",
    "for i in cocuk:\n",
    "    if i not in \"aeiıoöuü\":\n",
    "        cocuk_sessiz += i\n",
    "\n",
    "\n",
    "if len(set(anne) & set(cocuk_sessiz)) > 0 and len(set(baba) & set(cocuk_sessiz)) > 0 and set(cocuk_sessiz).issubset(set(anne) | set(baba)):\n",
    "    print(\"Bu aile süper ailedir\")\n",
    "else:\n",
    "    print(\"No Micky no that is not so right\")\n",
    "\n",
    "\n"
   ]
  },
  {
   "cell_type": "code",
   "execution_count": 11,
   "metadata": {},
   "outputs": [],
   "source": [
    "def super_aile(baba,anne,cocuk): #uzunluğu 1'den fazla mı versiyonu\n",
    "    \n",
    "    baba = baba.lower()\n",
    "    anne = anne.lower()\n",
    "    cocuk = cocuk.lower()\n",
    "\n",
    "    cocuk_sessiz = \"\"\n",
    "\n",
    "    for i in cocuk:\n",
    "        if i not in \"aeiıoöuü\":\n",
    "            cocuk_sessiz += i\n",
    "\n",
    "\n",
    "    if len(set(anne) & set(cocuk_sessiz)) > 0 and len(set(baba) & set(cocuk_sessiz)) > 0 and set(cocuk_sessiz).issubset(set(anne) | set(baba)):\n",
    "        print(\"Bu aile süper ailedir\")\n",
    "    else:\n",
    "        print(\"No Micky no that is not so right\")"
   ]
  },
  {
   "cell_type": "code",
   "execution_count": 9,
   "metadata": {},
   "outputs": [
    {
     "name": "stdout",
     "output_type": "stream",
     "text": [
      "Bu aile süper ailedir\n"
     ]
    }
   ],
   "source": [
    "super_aile(\"haLiL\",\"meRve\",\"veli\")"
   ]
  },
  {
   "cell_type": "code",
   "execution_count": 12,
   "metadata": {},
   "outputs": [],
   "source": [
    "def super_aile_2(baba,anne,cocuk):  #boş mu versiyonu + return versiyonu\n",
    "    \n",
    "    baba = baba.lower()\n",
    "    anne = anne.lower()\n",
    "    cocuk = cocuk.lower()\n",
    "\n",
    "    cocuk_sessiz = \"\"\n",
    "\n",
    "    for i in cocuk:\n",
    "        if i not in \"aeiıoöuü\":\n",
    "            cocuk_sessiz += i\n",
    "\n",
    "\n",
    "    if set(anne) & set(cocuk_sessiz) != set()  and set(baba) & set(cocuk_sessiz) != set() and set(cocuk_sessiz).issubset(set(anne) | set(baba)):\n",
    "        return \"Bu aile süper ailedir\"\n",
    "    else:\n",
    "        return \"No Micky no that is not so right\""
   ]
  },
  {
   "cell_type": "code",
   "execution_count": 13,
   "metadata": {},
   "outputs": [
    {
     "name": "stdout",
     "output_type": "stream",
     "text": [
      "Bu aile süper ailedir\n"
     ]
    }
   ],
   "source": [
    "super_aile_2(\"haLiL\",\"meRve\",\"veli\")"
   ]
  },
  {
   "cell_type": "markdown",
   "metadata": {},
   "source": [
    "## filter()"
   ]
  },
  {
   "cell_type": "code",
   "execution_count": 16,
   "metadata": {},
   "outputs": [
    {
     "name": "stdout",
     "output_type": "stream",
     "text": [
      "Help on class filter in module builtins:\n",
      "\n",
      "class filter(object)\n",
      " |  filter(function or None, iterable) --> filter object\n",
      " |\n",
      " |  Return an iterator yielding those items of iterable for which function(item)\n",
      " |  is true. If function is None, return the items that are true.\n",
      " |\n",
      " |  Methods defined here:\n",
      " |\n",
      " |  __getattribute__(self, name, /)\n",
      " |      Return getattr(self, name).\n",
      " |\n",
      " |  __iter__(self, /)\n",
      " |      Implement iter(self).\n",
      " |\n",
      " |  __next__(self, /)\n",
      " |      Implement next(self).\n",
      " |\n",
      " |  __reduce__(...)\n",
      " |      Return state information for pickling.\n",
      " |\n",
      " |  ----------------------------------------------------------------------\n",
      " |  Static methods defined here:\n",
      " |\n",
      " |  __new__(*args, **kwargs) from builtins.type\n",
      " |      Create and return a new object.  See help(type) for accurate signature.\n",
      "\n"
     ]
    }
   ],
   "source": [
    "help(filter)"
   ]
  }
 ],
 "metadata": {
  "kernelspec": {
   "display_name": "Python 3",
   "language": "python",
   "name": "python3"
  },
  "language_info": {
   "codemirror_mode": {
    "name": "ipython",
    "version": 3
   },
   "file_extension": ".py",
   "mimetype": "text/x-python",
   "name": "python",
   "nbconvert_exporter": "python",
   "pygments_lexer": "ipython3",
   "version": "3.12.1"
  }
 },
 "nbformat": 4,
 "nbformat_minor": 2
}
