{
 "cells": [
  {
   "cell_type": "code",
   "execution_count": 4,
   "metadata": {},
   "outputs": [
    {
     "name": "stdout",
     "output_type": "stream",
     "text": [
      "No Micky no that is not so right\n"
     ]
    }
   ],
   "source": [
    "baba = input(\"baba ismi\").lower()\n",
    "anne = input(\"anne ismi\").lower()\n",
    "cocuk = input(\"cocuk ismi\").lower()\n",
    "\n",
    "cocuk_sessiz = \"\"\n",
    "\n",
    "for i in cocuk:\n",
    "    if i not in \"aeiıoöuü\":\n",
    "        cocuk_sessiz += i\n",
    "\n",
    "\n",
    "if len(set(anne) & set(cocuk_sessiz)) > 0 and len(set(baba) & set(cocuk_sessiz)) > 0 and set(cocuk_sessiz).issubset(set(anne) | set(baba)):\n",
    "    print(\"Bu aile süper ailedir\")\n",
    "else:\n",
    "    print(\"No Micky no that is not so right\")\n",
    "\n",
    "\n"
   ]
  },
  {
   "cell_type": "code",
   "execution_count": 11,
   "metadata": {},
   "outputs": [],
   "source": [
    "def super_aile(baba,anne,cocuk): #uzunluğu 1'den fazla mı versiyonu\n",
    "    \n",
    "    baba = baba.lower()\n",
    "    anne = anne.lower()\n",
    "    cocuk = cocuk.lower()\n",
    "\n",
    "    cocuk_sessiz = \"\"\n",
    "\n",
    "    for i in cocuk:\n",
    "        if i not in \"aeiıoöuü\":\n",
    "            cocuk_sessiz += i\n",
    "\n",
    "\n",
    "    if len(set(anne) & set(cocuk_sessiz)) > 0 and len(set(baba) & set(cocuk_sessiz)) > 0 and set(cocuk_sessiz).issubset(set(anne) | set(baba)):\n",
    "        print(\"Bu aile süper ailedir\")\n",
    "    else:\n",
    "        print(\"No Micky no that is not so right\")"
   ]
  },
  {
   "cell_type": "code",
   "execution_count": 9,
   "metadata": {},
   "outputs": [
    {
     "name": "stdout",
     "output_type": "stream",
     "text": [
      "Bu aile süper ailedir\n"
     ]
    }
   ],
   "source": [
    "super_aile(\"haLiL\",\"meRve\",\"veli\")"
   ]
  },
  {
   "cell_type": "code",
   "execution_count": 12,
   "metadata": {},
   "outputs": [],
   "source": [
    "def super_aile_2(baba,anne,cocuk):  #boş mu versiyonu + return versiyonu\n",
    "    \n",
    "    baba = baba.lower()\n",
    "    anne = anne.lower()\n",
    "    cocuk = cocuk.lower()\n",
    "\n",
    "    cocuk_sessiz = \"\"\n",
    "\n",
    "    for i in cocuk:\n",
    "        if i not in \"aeiıoöuü\":\n",
    "            cocuk_sessiz += i\n",
    "\n",
    "\n",
    "    if set(anne) & set(cocuk_sessiz) != set()  and set(baba) & set(cocuk_sessiz) != set() and set(cocuk_sessiz).issubset(set(anne) | set(baba)):\n",
    "        return \"Bu aile süper ailedir\"\n",
    "    else:\n",
    "        return \"No Micky no that is not so right\""
   ]
  },
  {
   "cell_type": "code",
   "execution_count": 13,
   "metadata": {},
   "outputs": [
    {
     "name": "stdout",
     "output_type": "stream",
     "text": [
      "Bu aile süper ailedir\n"
     ]
    }
   ],
   "source": [
    "super_aile_2(\"haLiL\",\"meRve\",\"veli\")"
   ]
  },
  {
   "cell_type": "markdown",
   "metadata": {},
   "source": [
    "## filter()"
   ]
  },
  {
   "cell_type": "markdown",
   "metadata": {},
   "source": [
    "None veya fonksiyon ile çalışır. True olanları döndürür. Görüntülenmesi için başka bir fonksiyona ihtiyaç duyar list gibi."
   ]
  },
  {
   "cell_type": "code",
   "execution_count": 18,
   "metadata": {},
   "outputs": [
    {
     "data": {
      "text/plain": [
       "<filter at 0x223bc641f90>"
      ]
     },
     "execution_count": 18,
     "metadata": {},
     "output_type": "execute_result"
    }
   ],
   "source": [
    "filter(None, \"hello\") "
   ]
  },
  {
   "cell_type": "code",
   "execution_count": 23,
   "metadata": {},
   "outputs": [
    {
     "data": {
      "text/plain": [
       "[1, 2, 3.14, True, 'Techpro']"
      ]
     },
     "execution_count": 23,
     "metadata": {},
     "output_type": "execute_result"
    }
   ],
   "source": [
    "list(filter(None, [1,2,0,3.14,True, False, 0.0,\"Techpro\"] )) # İçine fonksiyon vermezsek sadece True ve truthy olanları döndürür!"
   ]
  },
  {
   "cell_type": "code",
   "execution_count": 24,
   "metadata": {},
   "outputs": [],
   "source": [
    "# Eğer fonksiyon ile çalıştırsaydık, fonkisyon sonucu true ise döndürürdü."
   ]
  },
  {
   "cell_type": "code",
   "execution_count": 25,
   "metadata": {},
   "outputs": [],
   "source": [
    "def find_odds(x): #tekse true çiftse false döndüren fonk.\n",
    "\n",
    "    if x % 2:\n",
    "        return True\n",
    "    else:\n",
    "        return False"
   ]
  },
  {
   "cell_type": "code",
   "execution_count": 27,
   "metadata": {},
   "outputs": [
    {
     "data": {
      "text/plain": [
       "False"
      ]
     },
     "execution_count": 27,
     "metadata": {},
     "output_type": "execute_result"
    }
   ],
   "source": [
    "find_odds(6)"
   ]
  },
  {
   "cell_type": "code",
   "execution_count": 28,
   "metadata": {},
   "outputs": [
    {
     "data": {
      "text/plain": [
       "[1, 3, 5, 7, 9]"
      ]
     },
     "execution_count": 28,
     "metadata": {},
     "output_type": "execute_result"
    }
   ],
   "source": [
    "list(filter(find_odds, [1,2,3,4,5,6,7,8,9] ))"
   ]
  },
  {
   "cell_type": "code",
   "execution_count": 29,
   "metadata": {},
   "outputs": [],
   "source": [
    "def find_evens(x): #çift ise true tek ise false döndüren fonk.\n",
    "\n",
    "    if x % 2==0:\n",
    "        return True\n",
    "    else:\n",
    "        return False"
   ]
  },
  {
   "cell_type": "code",
   "execution_count": 30,
   "metadata": {},
   "outputs": [
    {
     "data": {
      "text/plain": [
       "[2, 4, 6, 8]"
      ]
     },
     "execution_count": 30,
     "metadata": {},
     "output_type": "execute_result"
    }
   ],
   "source": [
    "list(filter(find_evens, [1,2,3,4,5,6,7,8,9] ))"
   ]
  },
  {
   "cell_type": "code",
   "execution_count": 31,
   "metadata": {},
   "outputs": [],
   "source": [
    "isimler_listesi = [\"Serhan\",\"Metehan\",\"Medine\",\"İrem\",\"Cennet\",\"Sedat\"]\n",
    "# İçerisindeki len'i 5 olanları bulan bir fonksiyon"
   ]
  },
  {
   "cell_type": "code",
   "execution_count": 32,
   "metadata": {},
   "outputs": [],
   "source": [
    "def len_5(x):\n",
    "    if len(x) == 5: return True"
   ]
  },
  {
   "cell_type": "code",
   "execution_count": 34,
   "metadata": {},
   "outputs": [
    {
     "data": {
      "text/plain": [
       "['Sedat']"
      ]
     },
     "execution_count": 34,
     "metadata": {},
     "output_type": "execute_result"
    }
   ],
   "source": [
    "list(filter(len_5,isimler_listesi))"
   ]
  },
  {
   "cell_type": "code",
   "execution_count": 35,
   "metadata": {},
   "outputs": [],
   "source": [
    "def find_armstrong_2(x):  \n",
    "\n",
    "    x = str(x)\n",
    "\n",
    "    uzunluk = len(x) \n",
    "\n",
    "    if int(x) == sum([ int(i) ** uzunluk for i in x ]): \n",
    "        return int(x) \n",
    "    "
   ]
  },
  {
   "cell_type": "code",
   "execution_count": 37,
   "metadata": {},
   "outputs": [
    {
     "data": {
      "text/plain": [
       "[153, 370, 371, 407, 1634, 8208, 9474, 54748, 92727, 93084]"
      ]
     },
     "execution_count": 37,
     "metadata": {},
     "output_type": "execute_result"
    }
   ],
   "source": [
    "list(filter(find_armstrong_2,range(10,100001))) #for'a kalmadan filter ile hallettik."
   ]
  },
  {
   "cell_type": "markdown",
   "metadata": {},
   "source": [
    "## lambda()"
   ]
  },
  {
   "cell_type": "markdown",
   "metadata": {},
   "source": [
    "kullan at gibidir."
   ]
  },
  {
   "cell_type": "code",
   "execution_count": 42,
   "metadata": {},
   "outputs": [
    {
     "data": {
      "text/plain": [
       "<function __main__.<lambda>(x, y)>"
      ]
     },
     "execution_count": 42,
     "metadata": {},
     "output_type": "execute_result"
    }
   ],
   "source": [
    "lambda x,y: x ** 2 + y ** 2 # şu an lambda ile fonksiyon oluşturduk. "
   ]
  },
  {
   "cell_type": "code",
   "execution_count": 44,
   "metadata": {},
   "outputs": [
    {
     "data": {
      "text/plain": [
       "25"
      ]
     },
     "execution_count": 44,
     "metadata": {},
     "output_type": "execute_result"
    }
   ],
   "source": [
    "(lambda x,y: x ** 2 + y ** 2) (3,4) #lambda yazıldığı anda çalıştırılır."
   ]
  },
  {
   "cell_type": "code",
   "execution_count": 47,
   "metadata": {},
   "outputs": [
    {
     "data": {
      "text/plain": [
       "True"
      ]
     },
     "execution_count": 47,
     "metadata": {},
     "output_type": "execute_result"
    }
   ],
   "source": [
    "(lambda x: len(x) == 5) (\"Sedat\")"
   ]
  },
  {
   "cell_type": "code",
   "execution_count": 48,
   "metadata": {},
   "outputs": [
    {
     "data": {
      "text/plain": [
       "['Sedat']"
      ]
     },
     "execution_count": 48,
     "metadata": {},
     "output_type": "execute_result"
    }
   ],
   "source": [
    "list(filter((lambda x: len(x) == 5), isimler_listesi)) #buı şekilde def'i yeninden tanımlamadan 5'i 6 yapabiliriz."
   ]
  },
  {
   "cell_type": "code",
   "execution_count": 49,
   "metadata": {},
   "outputs": [],
   "source": [
    "def len_5(x):  #Buna gerek kalmadı lambda ile.\n",
    "    if len(x) == 5: return True"
   ]
  },
  {
   "cell_type": "code",
   "execution_count": 58,
   "metadata": {},
   "outputs": [
    {
     "data": {
      "text/plain": [
       "'nahreS'"
      ]
     },
     "execution_count": 58,
     "metadata": {},
     "output_type": "execute_result"
    }
   ],
   "source": [
    "# içerisine girilen string'i tersten yazdıran bir lambda kodu oluşturunuz.\n",
    "(lambda x: x[::-1]) (\"Serhan\")"
   ]
  },
  {
   "cell_type": "code",
   "execution_count": 60,
   "metadata": {},
   "outputs": [
    {
     "data": {
      "text/plain": [
       "True"
      ]
     },
     "execution_count": 60,
     "metadata": {},
     "output_type": "execute_result"
    }
   ],
   "source": [
    "(lambda x: x[::-1] == x) (\"nazan\") #palindrom örneği"
   ]
  },
  {
   "cell_type": "code",
   "execution_count": null,
   "metadata": {},
   "outputs": [],
   "source": [
    "pip install pandas"
   ]
  },
  {
   "cell_type": "code",
   "execution_count": 64,
   "metadata": {},
   "outputs": [],
   "source": [
    "import pandas as pd"
   ]
  },
  {
   "cell_type": "code",
   "execution_count": null,
   "metadata": {},
   "outputs": [],
   "source": []
  }
 ],
 "metadata": {
  "kernelspec": {
   "display_name": "Python 3",
   "language": "python",
   "name": "python3"
  },
  "language_info": {
   "codemirror_mode": {
    "name": "ipython",
    "version": 3
   },
   "file_extension": ".py",
   "mimetype": "text/x-python",
   "name": "python",
   "nbconvert_exporter": "python",
   "pygments_lexer": "ipython3",
   "version": "3.12.1"
  }
 },
 "nbformat": 4,
 "nbformat_minor": 2
}
