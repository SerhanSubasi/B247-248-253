{
 "cells": [
  {
   "cell_type": "code",
   "execution_count": 1,
   "metadata": {},
   "outputs": [
    {
     "name": "stdout",
     "output_type": "stream",
     "text": [
      "3 x 1  = 3\n",
      "3 x 2  = 6\n",
      "3 x 3  = 9\n",
      "3 x 4  = 12\n",
      "3 x 5  = 15\n",
      "3 x 6  = 18\n",
      "3 x 7  = 21\n",
      "3 x 8  = 24\n",
      "3 x 9  = 27\n",
      "3 x 10 = 30\n"
     ]
    }
   ],
   "source": [
    "#ödev 2 çözüm 3 deneme hakkı = 3\n",
    "\n",
    "sayaç = 0\n",
    "\n",
    "while True:\n",
    "\n",
    "    number = int(input(\"bir sayı girin.1 ve 9 arasında\"))\n",
    "\n",
    "    sayaç += 1\n",
    "\n",
    "    if 1 <= number <= 9:\n",
    "\n",
    "        for i in [1,2,3,4,5,6,7,8,9,10]:\n",
    "\n",
    "            print(f\"{number} x {i:<2} = {number * i}\")\n",
    "\n",
    "        break\n",
    "\n",
    "    else:\n",
    "        print(\"girdiğiniz sayı 1 ile 9 arasında değil. Tekrar sayı girin.\")\n",
    "\n",
    "    if sayaç == 3:\n",
    "        break\n",
    "\n",
    "    "
   ]
  },
  {
   "cell_type": "code",
   "execution_count": 4,
   "metadata": {},
   "outputs": [],
   "source": [
    "# 1'den 50'ye kadar sayıların toplamını bulan kodu yazınız."
   ]
  },
  {
   "cell_type": "code",
   "execution_count": 2,
   "metadata": {},
   "outputs": [
    {
     "name": "stdout",
     "output_type": "stream",
     "text": [
      "1275\n"
     ]
    }
   ],
   "source": [
    "toplam = 0\n",
    "for i in range(1,51):\n",
    "    toplam= toplam + i\n",
    "print(toplam)"
   ]
  },
  {
   "cell_type": "code",
   "execution_count": 3,
   "metadata": {},
   "outputs": [
    {
     "data": {
      "text/plain": [
       "1275"
      ]
     },
     "execution_count": 3,
     "metadata": {},
     "output_type": "execute_result"
    }
   ],
   "source": [
    "sum(range(1,51))"
   ]
  },
  {
   "cell_type": "code",
   "execution_count": 5,
   "metadata": {},
   "outputs": [
    {
     "data": {
      "text/plain": [
       "15"
      ]
     },
     "execution_count": 5,
     "metadata": {},
     "output_type": "execute_result"
    }
   ],
   "source": [
    "sum((1,2,3,4,5))"
   ]
  },
  {
   "cell_type": "code",
   "execution_count": 6,
   "metadata": {},
   "outputs": [
    {
     "data": {
      "text/plain": [
       "15"
      ]
     },
     "execution_count": 6,
     "metadata": {},
     "output_type": "execute_result"
    }
   ],
   "source": [
    "sum([1,2,3,4,5])"
   ]
  },
  {
   "cell_type": "code",
   "execution_count": 7,
   "metadata": {},
   "outputs": [
    {
     "data": {
      "text/plain": [
       "15"
      ]
     },
     "execution_count": 7,
     "metadata": {},
     "output_type": "execute_result"
    }
   ],
   "source": [
    "sum({1,2,3,4,5})"
   ]
  },
  {
   "cell_type": "code",
   "execution_count": null,
   "metadata": {},
   "outputs": [],
   "source": [
    "sum(\"a\",\"b\") #HATA "
   ]
  },
  {
   "cell_type": "code",
   "execution_count": 8,
   "metadata": {},
   "outputs": [
    {
     "data": {
      "text/plain": [
       "15.0"
      ]
     },
     "execution_count": 8,
     "metadata": {},
     "output_type": "execute_result"
    }
   ],
   "source": [
    "sum([True,2,3.0,4,5])"
   ]
  },
  {
   "cell_type": "code",
   "execution_count": 9,
   "metadata": {},
   "outputs": [
    {
     "data": {
      "text/plain": [
       "115"
      ]
     },
     "execution_count": 9,
     "metadata": {},
     "output_type": "execute_result"
    }
   ],
   "source": [
    "sum([1,2,3,4,5],100) #100'ün üzerine toplar artık. Default 0'ı değiştirdik."
   ]
  },
  {
   "cell_type": "code",
   "execution_count": 10,
   "metadata": {},
   "outputs": [
    {
     "name": "stdout",
     "output_type": "stream",
     "text": [
      "650\n"
     ]
    }
   ],
   "source": [
    "toplam = 0\n",
    "for i in range(1,51):\n",
    "    if i % 2==0:\n",
    "       toplam= toplam + i\n",
    "print(toplam)"
   ]
  },
  {
   "cell_type": "code",
   "execution_count": 12,
   "metadata": {},
   "outputs": [
    {
     "data": {
      "text/plain": [
       "650"
      ]
     },
     "execution_count": 12,
     "metadata": {},
     "output_type": "execute_result"
    }
   ],
   "source": [
    "sum(range(0,51,2)) #Yöntem 2"
   ]
  },
  {
   "cell_type": "markdown",
   "metadata": {},
   "source": [
    "## break, continue with for"
   ]
  },
  {
   "cell_type": "code",
   "execution_count": 13,
   "metadata": {},
   "outputs": [
    {
     "data": {
      "text/plain": [
       "[1, 2, 3, 4, 5]"
      ]
     },
     "execution_count": 13,
     "metadata": {},
     "output_type": "execute_result"
    }
   ],
   "source": [
    "liste_1 = [1,2,3,4,5]\n",
    "liste_1"
   ]
  },
  {
   "cell_type": "code",
   "execution_count": 16,
   "metadata": {},
   "outputs": [
    {
     "name": "stdout",
     "output_type": "stream",
     "text": [
      "1\n",
      "4\n"
     ]
    }
   ],
   "source": [
    "for i in liste_1:\n",
    "\n",
    "    if i % 3 == 0: # 3 ve 3'ün katı olan sayıya denk gelindiğinde kod bitsin.\n",
    "        break\n",
    "    else:\n",
    "        print(i ** 2)"
   ]
  },
  {
   "cell_type": "code",
   "execution_count": 17,
   "metadata": {},
   "outputs": [
    {
     "name": "stdout",
     "output_type": "stream",
     "text": [
      "1\n",
      "4\n",
      "16\n",
      "25\n"
     ]
    }
   ],
   "source": [
    "# 3 ve 3'ün katına gelindiğinde kod devam etsin ama işlem yapmasın. \n",
    "\n",
    "for i in liste_1:\n",
    "\n",
    "    if i % 3 == 0: # 3 ve 3'ün katı olan sayıya denk gelindiğinde kod bitsin.\n",
    "        continue\n",
    "    else:\n",
    "        print(i ** 2)"
   ]
  },
  {
   "cell_type": "code",
   "execution_count": 19,
   "metadata": {},
   "outputs": [
    {
     "name": "stdout",
     "output_type": "stream",
     "text": [
      "650\n"
     ]
    }
   ],
   "source": [
    "# çift sayıların toplamı 1 ve 50 arası.  Continue'lu çözüm\n",
    "\n",
    "toplam = 0\n",
    "\n",
    "for i in range(1,51):\n",
    "\n",
    "    if i % 2 == 1:\n",
    "        continue\n",
    "    else:\n",
    "        toplam += i\n",
    "print(toplam)"
   ]
  },
  {
   "cell_type": "markdown",
   "metadata": {},
   "source": [
    "## zip()"
   ]
  },
  {
   "cell_type": "markdown",
   "metadata": {},
   "source": [
    "Birden fazla elemanlı liste varsa, o iki veya daha fazla listenin elemanlarını eşleştirir. iterablelar ile çalışır, bu yüzden sonucu da iterable olur."
   ]
  },
  {
   "cell_type": "code",
   "execution_count": 20,
   "metadata": {},
   "outputs": [
    {
     "data": {
      "text/plain": [
       "<zip at 0x2481797f940>"
      ]
     },
     "execution_count": 20,
     "metadata": {},
     "output_type": "execute_result"
    }
   ],
   "source": [
    "a = [\"apple\", \"orange\",\"lemon\"]\n",
    "b = [1,2,3]\n",
    "\n",
    "zip(a,b) # Bir list gibi tuple gibi başka fonksiyona ihtiyac duyar range gibi."
   ]
  },
  {
   "cell_type": "code",
   "execution_count": 21,
   "metadata": {},
   "outputs": [
    {
     "data": {
      "text/plain": [
       "[('apple', 1), ('orange', 2), ('lemon', 3)]"
      ]
     },
     "execution_count": 21,
     "metadata": {},
     "output_type": "execute_result"
    }
   ],
   "source": [
    "list(zip(a,b)) # Birbirleriyle eşleştirdi."
   ]
  },
  {
   "cell_type": "code",
   "execution_count": 25,
   "metadata": {},
   "outputs": [
    {
     "data": {
      "text/plain": [
       "[(1, 'apple'), (2, 'orange'), (3, 'lemon')]"
      ]
     },
     "execution_count": 25,
     "metadata": {},
     "output_type": "execute_result"
    }
   ],
   "source": [
    "list(zip(b,a)) #Hangisi önce yazılırsa onun elemanından başlar."
   ]
  },
  {
   "cell_type": "code",
   "execution_count": 22,
   "metadata": {},
   "outputs": [],
   "source": [
    "x = \"Techpro\"\n",
    "y = \"Cihan\"\n",
    "z = \"Ayşe\" #len'i en küçük olan kadar yazacak. "
   ]
  },
  {
   "cell_type": "code",
   "execution_count": 23,
   "metadata": {},
   "outputs": [
    {
     "data": {
      "text/plain": [
       "[('T', 'C', 'A'), ('e', 'i', 'y'), ('c', 'h', 'ş'), ('h', 'a', 'e')]"
      ]
     },
     "execution_count": 23,
     "metadata": {},
     "output_type": "execute_result"
    }
   ],
   "source": [
    "list(zip(x,y,z)) # Ayşe kadar yazdı 4 eleman kadar."
   ]
  },
  {
   "cell_type": "code",
   "execution_count": 27,
   "metadata": {},
   "outputs": [
    {
     "data": {
      "text/plain": [
       "{'apple': 1, 'orange': 2, 'lemon': 3}"
      ]
     },
     "execution_count": 27,
     "metadata": {},
     "output_type": "execute_result"
    }
   ],
   "source": [
    "dict(zip(a,b)) #dictionary de yapabiliriz."
   ]
  },
  {
   "cell_type": "code",
   "execution_count": 30,
   "metadata": {},
   "outputs": [],
   "source": [
    "meyveler = [\"apple\", \"orange\",\"apple\"]\n",
    "adet = [1,2,3]"
   ]
  },
  {
   "cell_type": "code",
   "execution_count": 32,
   "metadata": {},
   "outputs": [
    {
     "data": {
      "text/plain": [
       "{'apple': 3, 'orange': 2}"
      ]
     },
     "execution_count": 32,
     "metadata": {},
     "output_type": "execute_result"
    }
   ],
   "source": [
    "dict(zip(meyveler,adet)) #Birden fazla aynı key olduğu için en sondakini işleme aldı."
   ]
  },
  {
   "cell_type": "code",
   "execution_count": 33,
   "metadata": {},
   "outputs": [
    {
     "data": {
      "text/plain": [
       "[('irem', 25, 'data_scientist'),\n",
       " ('betül', 26, 'python_developer'),\n",
       " ('Tülay', 27, 'data_analyst')]"
      ]
     },
     "execution_count": 33,
     "metadata": {},
     "output_type": "execute_result"
    }
   ],
   "source": [
    "name = [\"irem\", \"betül\", \"Tülay\"]  #KULLANIM ÖRNEĞİ - AYRI AYRI TUTULANLARI BİRLEŞTİRDİK\n",
    "age = [25,26,27]\n",
    "job = [\"data_scientist\",\"python_developer\",\"data_analyst\"]\n",
    "\n",
    "list(zip(name,age,job))"
   ]
  },
  {
   "cell_type": "code",
   "execution_count": 34,
   "metadata": {},
   "outputs": [
    {
     "name": "stdout",
     "output_type": "stream",
     "text": [
      "('irem', 25, 'data_scientist')\n",
      "('betül', 26, 'python_developer')\n",
      "('Tülay', 27, 'data_analyst')\n"
     ]
    }
   ],
   "source": [
    "for item in zip(name,age,job): #for ile çalışsın istersek\n",
    "    print(item)"
   ]
  },
  {
   "cell_type": "code",
   "execution_count": 37,
   "metadata": {},
   "outputs": [
    {
     "name": "stdout",
     "output_type": "stream",
     "text": [
      "name:irem   age:25 job:data_scientist\n",
      "name:betül  age:26 job:python_developer\n",
      "name:Tülay  age:27 job:data_analyst\n"
     ]
    }
   ],
   "source": [
    "for i,j,k in zip(name,age,job): \n",
    "    print(f\"name:{i:<6} age:{j} job:{k}\")"
   ]
  },
  {
   "cell_type": "code",
   "execution_count": 38,
   "metadata": {},
   "outputs": [
    {
     "ename": "ValueError",
     "evalue": "too many values to unpack (expected 2)",
     "output_type": "error",
     "traceback": [
      "\u001b[1;31m---------------------------------------------------------------------------\u001b[0m",
      "\u001b[1;31mValueError\u001b[0m                                Traceback (most recent call last)",
      "Cell \u001b[1;32mIn[38], line 1\u001b[0m\n\u001b[1;32m----> 1\u001b[0m \u001b[38;5;28;01mfor\u001b[39;00m i,j \u001b[38;5;129;01min\u001b[39;00m \u001b[38;5;28mzip\u001b[39m(name,age,job): \u001b[38;5;66;03m#HATA - Kaç değişken varsa 1'den fazla yazıyorsan o kadar olmalı.\u001b[39;00m\n\u001b[0;32m      2\u001b[0m     \u001b[38;5;28mprint\u001b[39m(\u001b[38;5;124mf\u001b[39m\u001b[38;5;124m\"\u001b[39m\u001b[38;5;124mname:\u001b[39m\u001b[38;5;132;01m{\u001b[39;00mi\u001b[38;5;132;01m:\u001b[39;00m\u001b[38;5;124m<6\u001b[39m\u001b[38;5;132;01m}\u001b[39;00m\u001b[38;5;124m age:\u001b[39m\u001b[38;5;132;01m{\u001b[39;00mj\u001b[38;5;132;01m}\u001b[39;00m\u001b[38;5;124m\"\u001b[39m)\n",
      "\u001b[1;31mValueError\u001b[0m: too many values to unpack (expected 2)"
     ]
    }
   ],
   "source": [
    "for i,j in zip(name,age,job): #HATA - Kaç değişken varsa o kadar atamalısın. (1'den fazla yazıyorsan)\n",
    "    print(f\"name:{i:<6} age:{j}\")"
   ]
  },
  {
   "cell_type": "code",
   "execution_count": 40,
   "metadata": {},
   "outputs": [
    {
     "name": "stdout",
     "output_type": "stream",
     "text": [
      "değişkene ihtiyacımız yok\n",
      "değişkene ihtiyacımız yok\n",
      "değişkene ihtiyacımız yok\n",
      "değişkene ihtiyacımız yok\n",
      "değişkene ihtiyacımız yok\n",
      "değişkene ihtiyacımız yok\n",
      "değişkene ihtiyacımız yok\n",
      "değişkene ihtiyacımız yok\n",
      "değişkene ihtiyacımız yok\n",
      "değişkene ihtiyacımız yok\n"
     ]
    }
   ],
   "source": [
    "for i in range(1,11): #illa döngü için i değişkenini kullanmaya gerek yok\n",
    "    print(\"değişkene ihtiyacımız yok\")"
   ]
  },
  {
   "cell_type": "markdown",
   "metadata": {},
   "source": [
    "## enumerate()"
   ]
  },
  {
   "cell_type": "markdown",
   "metadata": {},
   "source": [
    "0'dan başlayarak numaralandırır."
   ]
  },
  {
   "cell_type": "code",
   "execution_count": 41,
   "metadata": {},
   "outputs": [
    {
     "data": {
      "text/plain": [
       "['irem', 'betül', 'Tülay']"
      ]
     },
     "execution_count": 41,
     "metadata": {},
     "output_type": "execute_result"
    }
   ],
   "source": [
    "name"
   ]
  },
  {
   "cell_type": "code",
   "execution_count": 42,
   "metadata": {},
   "outputs": [
    {
     "data": {
      "text/plain": [
       "<enumerate at 0x2481798f920>"
      ]
     },
     "execution_count": 42,
     "metadata": {},
     "output_type": "execute_result"
    }
   ],
   "source": [
    "enumerate(name) #görüntülemek için bir fonksiyona ihtiyaç duyar yine."
   ]
  },
  {
   "cell_type": "code",
   "execution_count": 43,
   "metadata": {},
   "outputs": [
    {
     "data": {
      "text/plain": [
       "[(0, 'irem'), (1, 'betül'), (2, 'Tülay')]"
      ]
     },
     "execution_count": 43,
     "metadata": {},
     "output_type": "execute_result"
    }
   ],
   "source": [
    "list(enumerate(name))"
   ]
  },
  {
   "cell_type": "code",
   "execution_count": 45,
   "metadata": {},
   "outputs": [
    {
     "data": {
      "text/plain": [
       "[(100, 'irem'), (101, 'betül'), (102, 'Tülay')]"
      ]
     },
     "execution_count": 45,
     "metadata": {},
     "output_type": "execute_result"
    }
   ],
   "source": [
    "list(enumerate(name, 100)) # istediğimiz sayıdan başlatabiliriz."
   ]
  },
  {
   "cell_type": "code",
   "execution_count": 47,
   "metadata": {},
   "outputs": [],
   "source": [
    "number_list = [48, 10, 11, 21, 36, 5, 6, 52, 28, 29,\n",
    "       53, 54, 45, 19, 20, 47, 55, 39, 41, 7,\n",
    "       9, 17, 26, 27, 42, 22, 37, 51, 46, 18,\n",
    "       44, 30, 34, 13, 15, 35, 33, 16, 50, 24]\n",
    "\n",
    "#listenin min ve max değerleri arasındaki kayıp sayıları bulun"
   ]
  },
  {
   "cell_type": "code",
   "execution_count": 59,
   "metadata": {},
   "outputs": [
    {
     "name": "stdout",
     "output_type": "stream",
     "text": [
      "[8, 12, 14, 23, 25, 31, 32, 38, 40, 43, 49]\n"
     ]
    }
   ],
   "source": [
    "# Çözüm 1:\n",
    "\n",
    "kayip_sayilar = []\n",
    "\n",
    "for i in range(min(number_list), max(number_list)): # for döngüsü 5 - 55 aralığında dolaşsın ( 55 zaten listede diye +1 eklemedik ama eklenebilir.)\n",
    "    if i not in number_list: # i number listesinin içerisinde yoksa\n",
    "        kayip_sayilar.append(i)\n",
    "\n",
    "print(kayip_sayilar)\n",
    "\n",
    "\n"
   ]
  },
  {
   "cell_type": "code",
   "execution_count": 61,
   "metadata": {},
   "outputs": [
    {
     "name": "stdout",
     "output_type": "stream",
     "text": [
      "[8, 12, 14, 23, 25, 31, 32, 38, 40, 43, 49]\n"
     ]
    }
   ],
   "source": [
    "# Çözüm 2:\n",
    "\n",
    "kayip_sayilar = []\n",
    "\n",
    "for i in range(min(number_list), max(number_list)): \n",
    "    if i in number_list: \n",
    "        continue\n",
    "    else:\n",
    "        kayip_sayilar.append(i)\n",
    "        \n",
    "print(kayip_sayilar)"
   ]
  },
  {
   "cell_type": "code",
   "execution_count": 63,
   "metadata": {},
   "outputs": [
    {
     "data": {
      "text/plain": [
       "{8, 12, 14, 23, 25, 31, 32, 38, 40, 43, 49}"
      ]
     },
     "execution_count": 63,
     "metadata": {},
     "output_type": "execute_result"
    }
   ],
   "source": [
    "#çözüm 3 - kümeler\n",
    "\n",
    "full_set = set(range(min(number_list), max(number_list))) #dış küme\n",
    "number_set = set(number_list) #iç küme\n",
    "\n",
    "full_set - number_set  #işte kayıp olan sayılar"
   ]
  },
  {
   "cell_type": "markdown",
   "metadata": {},
   "source": [
    "Ödeviniz:\n",
    "Bir markete gittiniz. Markette her ürünün bir kod numarası var.\n",
    "1 : Elma 2 : Portakal 3 : Çilek 4 : Yumurta 5 : Havuç 6 : Armut ... vs. şeklinde.\n",
    "Kullanıcıya almak istediği ürünü sorunuz ve kod numarası ile seçim yaptırınız. Çıkış için \"q\" opsiyonunu sununuz. Kullanıcının her ürün seçimi sonrası \" .... elma sepete eklendi\" gibi bir dönüt veriniz. Kullanıcı ürün almaya devam ettikçe ürünleri bir listede toplayınız, almaktan vazgeçtiği durumda teşekkür edip, aldığı toplam ürünleri çıktı veren bir kod yazınız.\n",
    "Çıktı:\n",
    "Teşekkür Ederiz...\n",
    "Sepetinizde Bulunan Ürünler: elma, armut, yumurta ... vs."
   ]
  },
  {
   "cell_type": "code",
   "execution_count": 1,
   "metadata": {},
   "outputs": [
    {
     "name": "stdout",
     "output_type": "stream",
     "text": [
      "[]\n"
     ]
    }
   ],
   "source": [
    "meyveler = \"elma\", \"portakal\", \"çilek\", \"armut\", \"erik\"\n",
    "\n",
    "kod = list(enumerate(meyveler, 1))\n",
    "\n",
    "sepet= []\n",
    "\n",
    "for i in (input(\"almak istediğiniz meyvenin kod numarasını giriniz\")):\n",
    "    if i in kod:\n",
    "        sepet.append(i)\n",
    "print(sepet)"
   ]
  },
  {
   "cell_type": "code",
   "execution_count": 2,
   "metadata": {},
   "outputs": [
    {
     "name": "stdout",
     "output_type": "stream",
     "text": [
      "{1: 'Elma', 2: 'Portakal', 3: 'Çilek', 4: 'Yumurta', 5: 'Havuç', 6: 'Armut'}\n"
     ]
    }
   ],
   "source": [
    "meyveler = {1 : \"Elma\", 2 : \"Portakal\", 3 : \"Çilek\", 4 : \"Yumurta\", 5 : \"Havuç\", 6 : \"Armut\"}\n",
    "sepet = []\n",
    "\n",
    "print(meyveler)"
   ]
  },
  {
   "cell_type": "code",
   "execution_count": 30,
   "metadata": {},
   "outputs": [],
   "source": [
    "del sepet"
   ]
  },
  {
   "cell_type": "code",
   "execution_count": 42,
   "metadata": {},
   "outputs": [
    {
     "name": "stdout",
     "output_type": "stream",
     "text": [
      "1: Elma\n",
      "2: Portakal\n",
      "3: Çilek\n",
      "4: Yumurta\n",
      "5: Havuç\n",
      "6: Armut\n",
      "\n",
      "Sepetinize Çilek eklediniz, well done!\n",
      "Sepetiniz: ['Çilek'] Lütfen yeni ürün eklemek istiyorsanız, seçim yapmaya devam ediniz.\n",
      "\n",
      "1: Elma\n",
      "2: Portakal\n",
      "3: Çilek\n",
      "4: Yumurta\n",
      "5: Havuç\n",
      "6: Armut\n",
      "\n",
      "Sepetinize Elma eklediniz, well done!\n",
      "Sepetiniz: ['Çilek', 'Elma'] Lütfen yeni ürün eklemek istiyorsanız, seçim yapmaya devam ediniz.\n",
      "\n",
      "1: Elma\n",
      "2: Portakal\n",
      "3: Çilek\n",
      "4: Yumurta\n",
      "5: Havuç\n",
      "6: Armut\n",
      "\n",
      "Sepetinize Portakal eklediniz, well done!\n",
      "Sepetiniz: ['Çilek', 'Elma', 'Portakal'] Lütfen yeni ürün eklemek istiyorsanız, seçim yapmaya devam ediniz.\n",
      "\n",
      "1: Elma\n",
      "2: Portakal\n",
      "3: Çilek\n",
      "4: Yumurta\n",
      "5: Havuç\n",
      "6: Armut\n",
      "\n",
      "Sepetinize Yumurta eklediniz, well done!\n",
      "Sepetiniz: ['Çilek', 'Elma', 'Portakal', 'Yumurta'] Lütfen yeni ürün eklemek istiyorsanız, seçim yapmaya devam ediniz.\n",
      "\n",
      "1: Elma\n",
      "2: Portakal\n",
      "3: Çilek\n",
      "4: Yumurta\n",
      "5: Havuç\n",
      "6: Armut\n",
      "Teşekkür ederiz. Sepetinizdeki ürünler şunlardır:['Çilek', 'Elma', 'Portakal', 'Yumurta']\n"
     ]
    }
   ],
   "source": [
    "meyveler = {1 : \"Elma\", 2 : \"Portakal\", 3 : \"Çilek\", 4 : \"Yumurta\", 5 : \"Havuç\", 6 : \"Armut\"}\n",
    "sepet = []\n",
    "\n",
    "while True:\n",
    "\n",
    "\n",
    "\n",
    "    for i, j in meyveler.items():\n",
    "        print(f\"{i}: {j}\" )\n",
    "\n",
    "    choose = input(\"Lütfen eklemek istediğiniz meyvenin kodunu yazınız. Çıkış için 'q' harfine basabilirsiniz. \\n\")\n",
    "\n",
    "    if choose.lower() == \"q\":\n",
    "        break\n",
    "\n",
    "\n",
    "    if choose.isdigit() and int(choose) in meyveler:\n",
    "        secilen = meyveler[int(choose)]\n",
    "        sepet.append(secilen)\n",
    "        print(f\"\\nSepetinize {secilen} eklediniz, well done!\")\n",
    "        print(\"Sepetiniz:\",sepet, \"Lütfen yeni ürün eklemek istiyorsanız, seçim yapmaya devam ediniz.\\n\")\n",
    "    else:\n",
    "        print(f\"Lütfen girdiğiniz kodu kontrol ediniz. {choose}\")\n",
    "\n",
    "print(f\"Teşekkür ederiz. Sepetinizdeki ürünler şunlardır:{sepet}\")\n",
    "\n",
    "\n"
   ]
  }
 ],
 "metadata": {
  "kernelspec": {
   "display_name": "Python 3",
   "language": "python",
   "name": "python3"
  },
  "language_info": {
   "codemirror_mode": {
    "name": "ipython",
    "version": 3
   },
   "file_extension": ".py",
   "mimetype": "text/x-python",
   "name": "python",
   "nbconvert_exporter": "python",
   "pygments_lexer": "ipython3",
   "version": "3.12.1"
  }
 },
 "nbformat": 4,
 "nbformat_minor": 2
}
