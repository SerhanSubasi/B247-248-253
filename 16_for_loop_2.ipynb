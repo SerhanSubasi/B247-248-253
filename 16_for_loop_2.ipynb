{
 "cells": [
  {
   "cell_type": "code",
   "execution_count": 1,
   "metadata": {},
   "outputs": [
    {
     "name": "stdout",
     "output_type": "stream",
     "text": [
      "3 x 1  = 3\n",
      "3 x 2  = 6\n",
      "3 x 3  = 9\n",
      "3 x 4  = 12\n",
      "3 x 5  = 15\n",
      "3 x 6  = 18\n",
      "3 x 7  = 21\n",
      "3 x 8  = 24\n",
      "3 x 9  = 27\n",
      "3 x 10 = 30\n"
     ]
    }
   ],
   "source": [
    "#ödev 2 çözüm 3 deneme hakkı = 3\n",
    "\n",
    "sayaç = 0\n",
    "\n",
    "while True:\n",
    "\n",
    "    number = int(input(\"bir sayı girin.1 ve 9 arasında\"))\n",
    "\n",
    "    sayaç += 1\n",
    "\n",
    "    if 1 <= number <= 9:\n",
    "\n",
    "        for i in [1,2,3,4,5,6,7,8,9,10]:\n",
    "\n",
    "            print(f\"{number} x {i:<2} = {number * i}\")\n",
    "\n",
    "        break\n",
    "\n",
    "    else:\n",
    "        print(\"girdiğiniz sayı 1 ile 9 arasında değil. Tekrar sayı girin.\")\n",
    "\n",
    "    if sayaç == 3:\n",
    "        break\n",
    "\n",
    "    "
   ]
  },
  {
   "cell_type": "code",
   "execution_count": 4,
   "metadata": {},
   "outputs": [],
   "source": [
    "# 1'den 50'ye kadar sayıların toplamını bulan kodu yazınız."
   ]
  },
  {
   "cell_type": "code",
   "execution_count": 2,
   "metadata": {},
   "outputs": [
    {
     "name": "stdout",
     "output_type": "stream",
     "text": [
      "1275\n"
     ]
    }
   ],
   "source": [
    "toplam = 0\n",
    "for i in range(1,51):\n",
    "    toplam= toplam + i\n",
    "print(toplam)"
   ]
  },
  {
   "cell_type": "code",
   "execution_count": 3,
   "metadata": {},
   "outputs": [
    {
     "data": {
      "text/plain": [
       "1275"
      ]
     },
     "execution_count": 3,
     "metadata": {},
     "output_type": "execute_result"
    }
   ],
   "source": [
    "sum(range(1,51))"
   ]
  },
  {
   "cell_type": "code",
   "execution_count": 5,
   "metadata": {},
   "outputs": [
    {
     "data": {
      "text/plain": [
       "15"
      ]
     },
     "execution_count": 5,
     "metadata": {},
     "output_type": "execute_result"
    }
   ],
   "source": [
    "sum((1,2,3,4,5))"
   ]
  },
  {
   "cell_type": "code",
   "execution_count": 6,
   "metadata": {},
   "outputs": [
    {
     "data": {
      "text/plain": [
       "15"
      ]
     },
     "execution_count": 6,
     "metadata": {},
     "output_type": "execute_result"
    }
   ],
   "source": [
    "sum([1,2,3,4,5])"
   ]
  },
  {
   "cell_type": "code",
   "execution_count": 7,
   "metadata": {},
   "outputs": [
    {
     "data": {
      "text/plain": [
       "15"
      ]
     },
     "execution_count": 7,
     "metadata": {},
     "output_type": "execute_result"
    }
   ],
   "source": [
    "sum({1,2,3,4,5})"
   ]
  },
  {
   "cell_type": "code",
   "execution_count": null,
   "metadata": {},
   "outputs": [],
   "source": [
    "sum(\"a\",\"b\") #HATA "
   ]
  },
  {
   "cell_type": "code",
   "execution_count": 8,
   "metadata": {},
   "outputs": [
    {
     "data": {
      "text/plain": [
       "15.0"
      ]
     },
     "execution_count": 8,
     "metadata": {},
     "output_type": "execute_result"
    }
   ],
   "source": [
    "sum([True,2,3.0,4,5])"
   ]
  },
  {
   "cell_type": "code",
   "execution_count": 9,
   "metadata": {},
   "outputs": [
    {
     "data": {
      "text/plain": [
       "115"
      ]
     },
     "execution_count": 9,
     "metadata": {},
     "output_type": "execute_result"
    }
   ],
   "source": [
    "sum([1,2,3,4,5],100) #100'ün üzerine toplar artık. Default 0'ı değiştirdik."
   ]
  },
  {
   "cell_type": "code",
   "execution_count": 10,
   "metadata": {},
   "outputs": [
    {
     "name": "stdout",
     "output_type": "stream",
     "text": [
      "650\n"
     ]
    }
   ],
   "source": [
    "toplam = 0\n",
    "for i in range(1,51):\n",
    "    if i % 2==0:\n",
    "       toplam= toplam + i\n",
    "print(toplam)"
   ]
  },
  {
   "cell_type": "code",
   "execution_count": 12,
   "metadata": {},
   "outputs": [
    {
     "data": {
      "text/plain": [
       "650"
      ]
     },
     "execution_count": 12,
     "metadata": {},
     "output_type": "execute_result"
    }
   ],
   "source": [
    "sum(range(0,51,2)) #Yöntem 2"
   ]
  },
  {
   "cell_type": "markdown",
   "metadata": {},
   "source": [
    "## break, continue with for"
   ]
  },
  {
   "cell_type": "code",
   "execution_count": 13,
   "metadata": {},
   "outputs": [
    {
     "data": {
      "text/plain": [
       "[1, 2, 3, 4, 5]"
      ]
     },
     "execution_count": 13,
     "metadata": {},
     "output_type": "execute_result"
    }
   ],
   "source": [
    "liste_1 = [1,2,3,4,5]\n",
    "liste_1"
   ]
  },
  {
   "cell_type": "code",
   "execution_count": 16,
   "metadata": {},
   "outputs": [
    {
     "name": "stdout",
     "output_type": "stream",
     "text": [
      "1\n",
      "4\n"
     ]
    }
   ],
   "source": [
    "for i in liste_1:\n",
    "\n",
    "    if i % 3 == 0: # 3 ve 3'ün katı olan sayıya denk gelindiğinde kod bitsin.\n",
    "        break\n",
    "    else:\n",
    "        print(i ** 2)"
   ]
  },
  {
   "cell_type": "code",
   "execution_count": 17,
   "metadata": {},
   "outputs": [
    {
     "name": "stdout",
     "output_type": "stream",
     "text": [
      "1\n",
      "4\n",
      "16\n",
      "25\n"
     ]
    }
   ],
   "source": [
    "# 3 ve 3'ün katına gelindiğinde kod devam etsin ama işlem yapmasın. \n",
    "\n",
    "for i in liste_1:\n",
    "\n",
    "    if i % 3 == 0: # 3 ve 3'ün katı olan sayıya denk gelindiğinde kod bitsin.\n",
    "        continue\n",
    "    else:\n",
    "        print(i ** 2)"
   ]
  },
  {
   "cell_type": "code",
   "execution_count": 19,
   "metadata": {},
   "outputs": [
    {
     "name": "stdout",
     "output_type": "stream",
     "text": [
      "650\n"
     ]
    }
   ],
   "source": [
    "# çift sayıların toplamı 1 ve 50 arası.  Continue'lu çözüm\n",
    "\n",
    "toplam = 0\n",
    "\n",
    "for i in range(1,51):\n",
    "\n",
    "    if i % 2 == 1:\n",
    "        continue\n",
    "    else:\n",
    "        toplam += i\n",
    "print(toplam)"
   ]
  },
  {
   "cell_type": "markdown",
   "metadata": {},
   "source": [
    "## zip()"
   ]
  },
  {
   "cell_type": "markdown",
   "metadata": {},
   "source": [
    "iterablelar ile çalışır, bu yüzden sonucu da iterable olur."
   ]
  },
  {
   "cell_type": "code",
   "execution_count": 20,
   "metadata": {},
   "outputs": [
    {
     "data": {
      "text/plain": [
       "<zip at 0x2481797f940>"
      ]
     },
     "execution_count": 20,
     "metadata": {},
     "output_type": "execute_result"
    }
   ],
   "source": [
    "a = [\"apple\", \"orange\",\"lemon\"]\n",
    "b = [1,2,3]\n",
    "\n",
    "zip(a,b) # Bir list gibi tuple gibi başka fonksiyona ihtiyac duyar range gibi."
   ]
  },
  {
   "cell_type": "code",
   "execution_count": 21,
   "metadata": {},
   "outputs": [
    {
     "data": {
      "text/plain": [
       "[('apple', 1), ('orange', 2), ('lemon', 3)]"
      ]
     },
     "execution_count": 21,
     "metadata": {},
     "output_type": "execute_result"
    }
   ],
   "source": [
    "list(zip(a,b)) # Birbirleriyle eşleştirdi."
   ]
  },
  {
   "cell_type": "code",
   "execution_count": 25,
   "metadata": {},
   "outputs": [
    {
     "data": {
      "text/plain": [
       "[(1, 'apple'), (2, 'orange'), (3, 'lemon')]"
      ]
     },
     "execution_count": 25,
     "metadata": {},
     "output_type": "execute_result"
    }
   ],
   "source": [
    "list(zip(b,a)) #Hangisi önce yazılırsa onun elemanından başlar."
   ]
  },
  {
   "cell_type": "code",
   "execution_count": 22,
   "metadata": {},
   "outputs": [],
   "source": [
    "x = \"Techpro\"\n",
    "y = \"Cihan\"\n",
    "z = \"Ayşe\" #len'i en küçük olan kadar yazacak. "
   ]
  },
  {
   "cell_type": "code",
   "execution_count": 23,
   "metadata": {},
   "outputs": [
    {
     "data": {
      "text/plain": [
       "[('T', 'C', 'A'), ('e', 'i', 'y'), ('c', 'h', 'ş'), ('h', 'a', 'e')]"
      ]
     },
     "execution_count": 23,
     "metadata": {},
     "output_type": "execute_result"
    }
   ],
   "source": [
    "list(zip(x,y,z)) # Ayşe kadar yazdı 4 eleman kadar."
   ]
  },
  {
   "cell_type": "code",
   "execution_count": 27,
   "metadata": {},
   "outputs": [
    {
     "data": {
      "text/plain": [
       "{'apple': 1, 'orange': 2, 'lemon': 3}"
      ]
     },
     "execution_count": 27,
     "metadata": {},
     "output_type": "execute_result"
    }
   ],
   "source": [
    "dict(zip(a,b)) #dictionary de yapabiliriz."
   ]
  },
  {
   "cell_type": "code",
   "execution_count": 30,
   "metadata": {},
   "outputs": [],
   "source": [
    "meyveler = [\"apple\", \"orange\",\"apple\"]\n",
    "adet = [1,2,3]"
   ]
  },
  {
   "cell_type": "code",
   "execution_count": 32,
   "metadata": {},
   "outputs": [
    {
     "data": {
      "text/plain": [
       "{'apple': 3, 'orange': 2}"
      ]
     },
     "execution_count": 32,
     "metadata": {},
     "output_type": "execute_result"
    }
   ],
   "source": [
    "dict(zip(meyveler,adet)) #Birden fazla aynı key olduğu için en sondakini işleme aldı."
   ]
  },
  {
   "cell_type": "code",
   "execution_count": 33,
   "metadata": {},
   "outputs": [
    {
     "data": {
      "text/plain": [
       "[('irem', 25, 'data_scientist'),\n",
       " ('betül', 26, 'python_developer'),\n",
       " ('Tülay', 27, 'data_analyst')]"
      ]
     },
     "execution_count": 33,
     "metadata": {},
     "output_type": "execute_result"
    }
   ],
   "source": [
    "name = [\"irem\", \"betül\", \"Tülay\"]  #KULLANIM ÖRNEĞİ - AYRI AYRI TUTULANLARI BİRLEŞTİRDİK\n",
    "age = [25,26,27]\n",
    "job = [\"data_scientist\",\"python_developer\",\"data_analyst\"]\n",
    "\n",
    "list(zip(name,age,job))"
   ]
  },
  {
   "cell_type": "code",
   "execution_count": 34,
   "metadata": {},
   "outputs": [
    {
     "name": "stdout",
     "output_type": "stream",
     "text": [
      "('irem', 25, 'data_scientist')\n",
      "('betül', 26, 'python_developer')\n",
      "('Tülay', 27, 'data_analyst')\n"
     ]
    }
   ],
   "source": [
    "for item in zip(name,age,job): #for ile çalışsın istersek\n",
    "    print(item)"
   ]
  },
  {
   "cell_type": "code",
   "execution_count": 37,
   "metadata": {},
   "outputs": [
    {
     "name": "stdout",
     "output_type": "stream",
     "text": [
      "name:irem   age:25 job:data_scientist\n",
      "name:betül  age:26 job:python_developer\n",
      "name:Tülay  age:27 job:data_analyst\n"
     ]
    }
   ],
   "source": [
    "for i,j,k in zip(name,age,job): \n",
    "    print(f\"name:{i:<6} age:{j} job:{k}\")"
   ]
  },
  {
   "cell_type": "code",
   "execution_count": 38,
   "metadata": {},
   "outputs": [
    {
     "ename": "ValueError",
     "evalue": "too many values to unpack (expected 2)",
     "output_type": "error",
     "traceback": [
      "\u001b[1;31m---------------------------------------------------------------------------\u001b[0m",
      "\u001b[1;31mValueError\u001b[0m                                Traceback (most recent call last)",
      "Cell \u001b[1;32mIn[38], line 1\u001b[0m\n\u001b[1;32m----> 1\u001b[0m \u001b[38;5;28;01mfor\u001b[39;00m i,j \u001b[38;5;129;01min\u001b[39;00m \u001b[38;5;28mzip\u001b[39m(name,age,job): \u001b[38;5;66;03m#HATA - Kaç değişken varsa 1'den fazla yazıyorsan o kadar olmalı.\u001b[39;00m\n\u001b[0;32m      2\u001b[0m     \u001b[38;5;28mprint\u001b[39m(\u001b[38;5;124mf\u001b[39m\u001b[38;5;124m\"\u001b[39m\u001b[38;5;124mname:\u001b[39m\u001b[38;5;132;01m{\u001b[39;00mi\u001b[38;5;132;01m:\u001b[39;00m\u001b[38;5;124m<6\u001b[39m\u001b[38;5;132;01m}\u001b[39;00m\u001b[38;5;124m age:\u001b[39m\u001b[38;5;132;01m{\u001b[39;00mj\u001b[38;5;132;01m}\u001b[39;00m\u001b[38;5;124m\"\u001b[39m)\n",
      "\u001b[1;31mValueError\u001b[0m: too many values to unpack (expected 2)"
     ]
    }
   ],
   "source": [
    "for i,j in zip(name,age,job): #HATA - Kaç değişken varsa o kadar atamalısın. (1'den fazla yazıyorsan)\n",
    "    print(f\"name:{i:<6} age:{j}\")"
   ]
  },
  {
   "cell_type": "code",
   "execution_count": null,
   "metadata": {},
   "outputs": [],
   "source": []
  }
 ],
 "metadata": {
  "kernelspec": {
   "display_name": "Python 3",
   "language": "python",
   "name": "python3"
  },
  "language_info": {
   "codemirror_mode": {
    "name": "ipython",
    "version": 3
   },
   "file_extension": ".py",
   "mimetype": "text/x-python",
   "name": "python",
   "nbconvert_exporter": "python",
   "pygments_lexer": "ipython3",
   "version": "3.12.1"
  }
 },
 "nbformat": 4,
 "nbformat_minor": 2
}
