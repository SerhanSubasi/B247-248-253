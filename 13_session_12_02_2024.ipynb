{
 "cells": [
  {
   "cell_type": "markdown",
   "metadata": {},
   "source": [
    "# LOOPS"
   ]
  },
  {
   "cell_type": "markdown",
   "metadata": {},
   "source": [
    "## while"
   ]
  },
  {
   "cell_type": "code",
   "execution_count": 1,
   "metadata": {},
   "outputs": [],
   "source": [
    "# while genelde koşullarla çalışır, koşul gerçekleştiği sürece döngü çalışır."
   ]
  },
  {
   "cell_type": "code",
   "execution_count": null,
   "metadata": {},
   "outputs": [],
   "source": [
    "while 10 > 4: # koşulu false yapacak bir kod olmadığından dolayı infinite loop\n",
    "    print(\"bu döngü sonsuza kadar çalışır.\")"
   ]
  },
  {
   "cell_type": "code",
   "execution_count": 6,
   "metadata": {},
   "outputs": [
    {
     "name": "stdout",
     "output_type": "stream",
     "text": [
      "Bu döngü koşul sağlandığı sürece çıktı verir.\n",
      "Bu döngü koşul sağlandığı sürece çıktı verir.\n",
      "Bu döngü koşul sağlandığı sürece çıktı verir.\n",
      "Bu döngü koşul sağlandığı sürece çıktı verir.\n",
      "Bu döngü koşul sağlandığı sürece çıktı verir.\n",
      "Bu döngü koşul sağlandığı sürece çıktı verir.\n"
     ]
    }
   ],
   "source": [
    "x = 4\n",
    "\n",
    "while 10 > x:\n",
    "    print(\"Bu döngü koşul sağlandığı sürece çıktı verir.\")\n",
    "    x = x + 1  # x her seferinde artacağı için 6 defa çalışacak.\n",
    "    # x += 1"
   ]
  },
  {
   "cell_type": "code",
   "execution_count": 7,
   "metadata": {},
   "outputs": [
    {
     "name": "stdout",
     "output_type": "stream",
     "text": [
      "1\n",
      "2\n",
      "3\n",
      "4\n",
      "5\n",
      "6\n",
      "7\n",
      "8\n",
      "9\n"
     ]
    }
   ],
   "source": [
    "x = 1\n",
    "\n",
    "while x < 10:\n",
    "    print(x)\n",
    "    x += 1  #bu artırım olmasa veya döngü satırı dışında olsa sonsuza giderdi."
   ]
  },
  {
   "cell_type": "code",
   "execution_count": null,
   "metadata": {},
   "outputs": [],
   "source": [
    "x = 1\n",
    "\n",
    "while x < 10:\n",
    "    print(x)\n",
    "\n",
    "x += 1 #Döngü dışında şu an! İnfinite loop."
   ]
  },
  {
   "cell_type": "code",
   "execution_count": 8,
   "metadata": {},
   "outputs": [
    {
     "name": "stdout",
     "output_type": "stream",
     "text": [
      "2\n",
      "3\n",
      "4\n",
      "5\n",
      "6\n",
      "7\n",
      "8\n",
      "9\n",
      "10\n"
     ]
    }
   ],
   "source": [
    "x = 1\n",
    "\n",
    "while x < 10:\n",
    "    x += 1 #artırımı önce yaptırırsak 2'den başlar yazdırmaya. O yüzden en son artırım hep. \n",
    "    print(x)\n",
    "    "
   ]
  },
  {
   "cell_type": "code",
   "execution_count": 9,
   "metadata": {},
   "outputs": [],
   "source": [
    "while False:  #True olduğu sürece çalışır o yüzden çıktı vermeyecek.\n",
    "    print(\"sanki çıktı vermeyecek gibi\")"
   ]
  },
  {
   "cell_type": "code",
   "execution_count": null,
   "metadata": {},
   "outputs": [],
   "source": [
    "while True:  #Bu kod sonsuza kadar çalışır\n",
    "    print(\"sonsuza kadar çalışır\")"
   ]
  },
  {
   "cell_type": "code",
   "execution_count": null,
   "metadata": {},
   "outputs": [],
   "source": [
    "x = 1\n",
    "\n",
    "while True:  #sonsuza gider çünkü while True denildi. \n",
    "    print(x, \"sonsuza gider mi acaba?\")\n",
    "    x = x + 1 #bunun bir katkısı yok döngüye bu örnekte."
   ]
  },
  {
   "cell_type": "code",
   "execution_count": null,
   "metadata": {},
   "outputs": [],
   "source": []
  },
  {
   "cell_type": "code",
   "execution_count": null,
   "metadata": {},
   "outputs": [],
   "source": []
  },
  {
   "cell_type": "code",
   "execution_count": null,
   "metadata": {},
   "outputs": [],
   "source": []
  },
  {
   "cell_type": "code",
   "execution_count": null,
   "metadata": {},
   "outputs": [],
   "source": []
  },
  {
   "cell_type": "code",
   "execution_count": null,
   "metadata": {},
   "outputs": [],
   "source": []
  }
 ],
 "metadata": {
  "kernelspec": {
   "display_name": "Python 3",
   "language": "python",
   "name": "python3"
  },
  "language_info": {
   "codemirror_mode": {
    "name": "ipython",
    "version": 3
   },
   "file_extension": ".py",
   "mimetype": "text/x-python",
   "name": "python",
   "nbconvert_exporter": "python",
   "pygments_lexer": "ipython3",
   "version": "3.12.1"
  }
 },
 "nbformat": 4,
 "nbformat_minor": 2
}
