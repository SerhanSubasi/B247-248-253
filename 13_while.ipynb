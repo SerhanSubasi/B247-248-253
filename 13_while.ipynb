{
 "cells": [
  {
   "cell_type": "markdown",
   "metadata": {},
   "source": [
    "# LOOPS"
   ]
  },
  {
   "cell_type": "markdown",
   "metadata": {},
   "source": [
    "## while"
   ]
  },
  {
   "cell_type": "code",
   "execution_count": 1,
   "metadata": {},
   "outputs": [],
   "source": [
    "# while genelde koşullarla çalışır, koşul gerçekleştiği sürece döngü çalışır."
   ]
  },
  {
   "cell_type": "code",
   "execution_count": null,
   "metadata": {},
   "outputs": [],
   "source": [
    "while 10 > 4: # koşulu false yapacak bir kod olmadığından dolayı infinite loop\n",
    "    print(\"bu döngü sonsuza kadar çalışır.\")"
   ]
  },
  {
   "cell_type": "code",
   "execution_count": 6,
   "metadata": {},
   "outputs": [
    {
     "name": "stdout",
     "output_type": "stream",
     "text": [
      "Bu döngü koşul sağlandığı sürece çıktı verir.\n",
      "Bu döngü koşul sağlandığı sürece çıktı verir.\n",
      "Bu döngü koşul sağlandığı sürece çıktı verir.\n",
      "Bu döngü koşul sağlandığı sürece çıktı verir.\n",
      "Bu döngü koşul sağlandığı sürece çıktı verir.\n",
      "Bu döngü koşul sağlandığı sürece çıktı verir.\n"
     ]
    }
   ],
   "source": [
    "x = 4\n",
    "\n",
    "while 10 > x:\n",
    "    print(\"Bu döngü koşul sağlandığı sürece çıktı verir.\")\n",
    "    x = x + 1  # x her seferinde artacağı için 6 defa çalışacak.\n",
    "    # x += 1"
   ]
  },
  {
   "cell_type": "code",
   "execution_count": 7,
   "metadata": {},
   "outputs": [
    {
     "name": "stdout",
     "output_type": "stream",
     "text": [
      "1\n",
      "2\n",
      "3\n",
      "4\n",
      "5\n",
      "6\n",
      "7\n",
      "8\n",
      "9\n"
     ]
    }
   ],
   "source": [
    "x = 1\n",
    "\n",
    "while x < 10:\n",
    "    print(x)\n",
    "    x += 1  #bu artırım olmasa veya döngü satırı dışında olsa sonsuza giderdi."
   ]
  },
  {
   "cell_type": "code",
   "execution_count": null,
   "metadata": {},
   "outputs": [],
   "source": [
    "x = 1\n",
    "\n",
    "while x < 10:\n",
    "    print(x)\n",
    "\n",
    "x += 1 #Döngü dışında şu an! İnfinite loop."
   ]
  },
  {
   "cell_type": "code",
   "execution_count": 8,
   "metadata": {},
   "outputs": [
    {
     "name": "stdout",
     "output_type": "stream",
     "text": [
      "2\n",
      "3\n",
      "4\n",
      "5\n",
      "6\n",
      "7\n",
      "8\n",
      "9\n",
      "10\n"
     ]
    }
   ],
   "source": [
    "x = 1\n",
    "\n",
    "while x < 10:\n",
    "    x += 1 #artırımı önce yaptırırsak 2'den başlar yazdırmaya. O yüzden en son artırım hep. \n",
    "    print(x)\n",
    "    "
   ]
  },
  {
   "cell_type": "code",
   "execution_count": 9,
   "metadata": {},
   "outputs": [],
   "source": [
    "while False:  #True olduğu sürece çalışır o yüzden çıktı vermeyecek.\n",
    "    print(\"sanki çıktı vermeyecek gibi\")"
   ]
  },
  {
   "cell_type": "code",
   "execution_count": null,
   "metadata": {},
   "outputs": [],
   "source": [
    "while True:  #Bu kod sonsuza kadar çalışır\n",
    "    print(\"sonsuza kadar çalışır\")"
   ]
  },
  {
   "cell_type": "code",
   "execution_count": null,
   "metadata": {},
   "outputs": [],
   "source": [
    "x = 1\n",
    "\n",
    "while True:  #sonsuza gider çünkü while True denildi. \n",
    "    print(x, \"sonsuza gider mi acaba?\")\n",
    "    x = x + 1 #bunun bir katkısı yok döngüye bu örnekte."
   ]
  },
  {
   "cell_type": "code",
   "execution_count": 10,
   "metadata": {},
   "outputs": [
    {
     "name": "stdout",
     "output_type": "stream",
     "text": [
      "while döngüsü condition False olana kadar çalışır.\n"
     ]
    }
   ],
   "source": [
    "y = True\n",
    "\n",
    "while y:\n",
    "    print(\"while döngüsü condition False olana kadar çalışır.\")\n",
    "    y = False"
   ]
  },
  {
   "cell_type": "code",
   "execution_count": 12,
   "metadata": {},
   "outputs": [
    {
     "name": "stdout",
     "output_type": "stream",
     "text": [
      "deneme 1\n",
      "deneme 2\n",
      "deneme 3\n",
      "3 deneme hakkın bitti\n"
     ]
    }
   ],
   "source": [
    "x = 1\n",
    "while x <= 3:\n",
    "    print(f\"deneme {x}\")\n",
    "    x += 1\n",
    "\n",
    "print(\"3 deneme hakkın bitti\")"
   ]
  },
  {
   "cell_type": "code",
   "execution_count": 13,
   "metadata": {},
   "outputs": [
    {
     "name": "stdout",
     "output_type": "stream",
     "text": [
      "deneme 1\n",
      "3 deneme hakkın bitti\n",
      "deneme 2\n",
      "3 deneme hakkın bitti\n",
      "deneme 3\n",
      "3 deneme hakkın bitti\n"
     ]
    }
   ],
   "source": [
    "x = 1\n",
    "while x <= 3:\n",
    "    print(f\"deneme {x}\")\n",
    "    x += 1\n",
    "\n",
    "    print(\"3 deneme hakkın bitti\")  # Bu şekilde döngü içinde olsaydı her seferinde yazdırırdı."
   ]
  },
  {
   "cell_type": "code",
   "execution_count": 19,
   "metadata": {},
   "outputs": [
    {
     "name": "stdout",
     "output_type": "stream",
     "text": [
      " 1'in karesi: 1\n",
      " 2'in karesi: 4\n",
      " 3'in karesi: 9\n",
      " 4'in karesi: 16\n",
      " 5'in karesi: 25\n"
     ]
    }
   ],
   "source": [
    "x = 1 \n",
    "while x <= 5:\n",
    "    print(f\" {x}'in karesi: {x ** 2}\")\n",
    "\n",
    "    x += 1"
   ]
  },
  {
   "cell_type": "code",
   "execution_count": 22,
   "metadata": {},
   "outputs": [],
   "source": [
    "kilo = int(input(\"Kilomu tahmin et. 10'luk değerler kullanabilirsin\"))\n",
    "\n",
    "while kilo < 90:\n",
    "    print(\"Yanlış tahmin tekrar deneyin.\")\n",
    "    kilo = int(input(\"Kilomu tahmin et. 10'luk değerler kullanabilirsin\"))\n",
    "\n",
    "# 90 olana kadar tekrar edecek.\n"
   ]
  },
  {
   "cell_type": "code",
   "execution_count": 25,
   "metadata": {},
   "outputs": [
    {
     "name": "stdout",
     "output_type": "stream",
     "text": [
      "Girdiğiniz sayı: 10. Tahminini artır\n",
      "Girdiğiniz sayı: 20. Tahminini artır\n",
      "Girdiğiniz sayı: 40. Tahminini artır\n",
      "Girdiğiniz sayı: 50. Tahminini azalt\n",
      "Hamilton'u buldunuz\n"
     ]
    }
   ],
   "source": [
    "y = True\n",
    "\n",
    "aklimdaki_sayi = 44\n",
    "\n",
    "while y:\n",
    "    tahmin = int(input(\" 1 - 100 arasında bir sayı tahmin ediniz.\"))\n",
    "\n",
    "    if aklimdaki_sayi < tahmin:\n",
    "        print(f\"Girdiğiniz sayı: {tahmin}. Tahminini azalt\")\n",
    "    elif aklimdaki_sayi > tahmin:\n",
    "        print(f\"Girdiğiniz sayı: {tahmin}. Tahminini artır\")\n",
    "    else:\n",
    "        print(\"Hamilton'u buldunuz\")\n",
    "        y = False #else çalışınca y false olsun istedik ve else içine yazdık.\n",
    "\n",
    "    "
   ]
  },
  {
   "cell_type": "code",
   "execution_count": 26,
   "metadata": {},
   "outputs": [
    {
     "name": "stdout",
     "output_type": "stream",
     "text": [
      "Girdiğiniz sayı: 2. Tahminini artır\n",
      "Girdiğiniz sayı: 3. Tahminini artır\n",
      "Girdiğiniz sayı: 5. Tahminini artır\n",
      "Hamilton'u buldunuz 4 kerede bildiniz\n"
     ]
    }
   ],
   "source": [
    "y = True\n",
    "\n",
    "aklimdaki_sayi = 44\n",
    "\n",
    "count = 0\n",
    "\n",
    "while y:\n",
    "    tahmin = int(input(\" 1 - 100 arasında bir sayı tahmin ediniz.\"))\n",
    "\n",
    "    count += 1\n",
    "\n",
    "    if aklimdaki_sayi < tahmin:\n",
    "        print(f\"Girdiğiniz sayı: {tahmin}. Tahminini azalt\")\n",
    "\n",
    "    elif aklimdaki_sayi > tahmin:\n",
    "        print(f\"Girdiğiniz sayı: {tahmin}. Tahminini artır\")\n",
    "\n",
    "    else:\n",
    "        print(f\"Hamilton'u buldunuz {count} kerede bildiniz\")\n",
    "        y = False #else çalışınca y false olsun istedik ve else içine yazdık.\n",
    "\n",
    "    "
   ]
  },
  {
   "cell_type": "code",
   "execution_count": null,
   "metadata": {},
   "outputs": [],
   "source": [
    "y = True\n",
    "\n",
    "aklimdaki_sayi = 44\n",
    "\n",
    "count = 0\n",
    "\n",
    "while y:\n",
    "    tahmin = int(input(\" 1 - 100 arasında bir sayı tahmin ediniz.\"))\n",
    "\n",
    "    count += 1\n",
    "\n",
    "    if aklimdaki_sayi < tahmin:\n",
    "        print(f\"Girdiğiniz sayı: {tahmin}. Tahminini azalt\")\n",
    "\n",
    "    elif aklimdaki_sayi > tahmin:\n",
    "        print(f\"Girdiğiniz sayı: {tahmin}. Tahminini artır\")\n",
    "\n",
    "    else:\n",
    "        print(f\"Hamilton'u buldunuz {count} kerede bildiniz\")\n",
    "        y = False #else çalışınca y false olsun istedik ve else içine yazdık.\n",
    "\n",
    "    if count == 5:\n",
    "        y = False\n",
    "\n",
    "        "
   ]
  },
  {
   "cell_type": "code",
   "execution_count": 1,
   "metadata": {},
   "outputs": [],
   "source": [
    "sayilar_listesi = [1,3,4,6,5,7]"
   ]
  },
  {
   "cell_type": "code",
   "execution_count": 2,
   "metadata": {},
   "outputs": [
    {
     "name": "stdout",
     "output_type": "stream",
     "text": [
      "1\n",
      "9\n",
      "16\n",
      "36\n",
      "25\n",
      "49\n"
     ]
    }
   ],
   "source": [
    "# listenin elemanlarının karesini döndüren while döngüsünü yazınız.\n",
    "x = 0 #ilk index\n",
    "\n",
    "while x < len(sayilar_listesi):\n",
    "\n",
    "    print(sayilar_listesi[x] ** 2) #sayilar listesinin 0.indexindeki elemana ulaş ve karesini yazdır.\n",
    "\n",
    "    x += 1"
   ]
  },
  {
   "cell_type": "code",
   "execution_count": 13,
   "metadata": {},
   "outputs": [
    {
     "name": "stdout",
     "output_type": "stream",
     "text": [
      "[1, 9, 16, 36, 25, 49]\n"
     ]
    }
   ],
   "source": [
    "# listenin elemanlarının karesini bir liste içinde döndüren while döngüsünü yazınız.\n",
    "\n",
    "sayilar_listesi = [1,3,4,6,5,7]\n",
    "kareler_listesi = []\n",
    "x = 0\n",
    "\n",
    "while x < len(sayilar_listesi):\n",
    "    kareler_listesi.append(sayilar_listesi[x] ** 2)\n",
    "    x += 1\n",
    "\n",
    "print(kareler_listesi) \n",
    "\n"
   ]
  },
  {
   "cell_type": "code",
   "execution_count": null,
   "metadata": {},
   "outputs": [],
   "source": [
    "# listenin elemanlarından çift olanların karesini bir liste içinde döndüren while döngüsünü yazınız."
   ]
  },
  {
   "cell_type": "code",
   "execution_count": 16,
   "metadata": {},
   "outputs": [
    {
     "name": "stdout",
     "output_type": "stream",
     "text": [
      "[16, 36]\n"
     ]
    }
   ],
   "source": [
    "sayilar_listesi = [1,3,4,6,5,7]\n",
    "çiftlerin_kareler_listesi = []\n",
    "x = 0\n",
    "\n",
    "while x < len(sayilar_listesi):\n",
    "    \n",
    "    if sayilar_listesi[x] % 2 == 0:\n",
    "\n",
    "        çiftlerin_kareler_listesi.append(sayilar_listesi[x] ** 2)\n",
    "    x += 1\n",
    "\n",
    "print(çiftlerin_kareler_listesi) "
   ]
  },
  {
   "cell_type": "code",
   "execution_count": 1,
   "metadata": {},
   "outputs": [],
   "source": [
    "# ÖDEV  [1,5,6,7,12,14,15,18,19,32,25] listesinin tek elemanlarının karesini, çift elemanlarının 2 katını liste halinde döndüren while döngüsünü yazın"
   ]
  },
  {
   "cell_type": "code",
   "execution_count": 1,
   "metadata": {},
   "outputs": [
    {
     "name": "stdout",
     "output_type": "stream",
     "text": [
      "[1, 25, 12, 49, 24, 28, 225, 36, 361, 64, 625]\n"
     ]
    }
   ],
   "source": [
    "sayilar = [1,5,6,7,12,14,15,18,19,32,25]\n",
    "çift_kareler = []\n",
    "kareler = []\n",
    "x = 0\n",
    "\n",
    "while x < len(sayilar):\n",
    "\n",
    "    if sayilar[x] % 2: #1 döndürecek yani True olacak ve çalışacak. % 2 == 1 yazmaya gerek yok her zaman.\n",
    "        kareler.append(sayilar[x] ** 2)\n",
    "    else:\n",
    "        kareler.append(sayilar[x] * 2)\n",
    "    x += 1\n",
    "    \n",
    "print(kareler)\n",
    "\n",
    "    "
   ]
  }
 ],
 "metadata": {
  "kernelspec": {
   "display_name": "Python 3",
   "language": "python",
   "name": "python3"
  },
  "language_info": {
   "codemirror_mode": {
    "name": "ipython",
    "version": 3
   },
   "file_extension": ".py",
   "mimetype": "text/x-python",
   "name": "python",
   "nbconvert_exporter": "python",
   "pygments_lexer": "ipython3",
   "version": "3.12.1"
  }
 },
 "nbformat": 4,
 "nbformat_minor": 2
}
