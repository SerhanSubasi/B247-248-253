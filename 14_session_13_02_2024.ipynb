{
 "cells": [
  {
   "cell_type": "markdown",
   "metadata": {},
   "source": [
    "## random modülü"
   ]
  },
  {
   "cell_type": "code",
   "execution_count": 2,
   "metadata": {},
   "outputs": [],
   "source": [
    "import random"
   ]
  },
  {
   "cell_type": "code",
   "execution_count": 5,
   "metadata": {},
   "outputs": [
    {
     "data": {
      "text/plain": [
       "0.14026029577793864"
      ]
     },
     "execution_count": 5,
     "metadata": {},
     "output_type": "execute_result"
    }
   ],
   "source": [
    "random.random() # 0 dahil 1 dahil değil aralığında random sayı üretir."
   ]
  },
  {
   "cell_type": "code",
   "execution_count": 3,
   "metadata": {},
   "outputs": [
    {
     "data": {
      "text/plain": [
       "0.10682853770165568"
      ]
     },
     "execution_count": 3,
     "metadata": {},
     "output_type": "execute_result"
    }
   ],
   "source": [
    "random.seed(14) #belli bir sabite göre aynı değerleri rassal üretir. \n",
    "random.random()"
   ]
  },
  {
   "cell_type": "code",
   "execution_count": 23,
   "metadata": {},
   "outputs": [
    {
     "data": {
      "text/plain": [
       "4"
      ]
     },
     "execution_count": 23,
     "metadata": {},
     "output_type": "execute_result"
    }
   ],
   "source": [
    "random.randint(2,5)  #içine girilen iki sayı arasında random sayılar üretir. end point dahil."
   ]
  },
  {
   "cell_type": "code",
   "execution_count": 24,
   "metadata": {},
   "outputs": [
    {
     "data": {
      "text/plain": [
       "6"
      ]
     },
     "execution_count": 24,
     "metadata": {},
     "output_type": "execute_result"
    }
   ],
   "source": [
    "random.randint(1,6) # 1d6 zar oldu"
   ]
  },
  {
   "cell_type": "code",
   "execution_count": 26,
   "metadata": {},
   "outputs": [
    {
     "data": {
      "text/plain": [
       "[2, 30, 41, 10, 20]"
      ]
     },
     "execution_count": 26,
     "metadata": {},
     "output_type": "execute_result"
    }
   ],
   "source": [
    "random.sample(range(100),5) #100'e kadar ki sayılardan 5 tane getirir."
   ]
  },
  {
   "cell_type": "code",
   "execution_count": 30,
   "metadata": {},
   "outputs": [
    {
     "name": "stdout",
     "output_type": "stream",
     "text": [
      "Girdiğiniz sayı : 14. Tahminini azalt\n",
      "Girdiğiniz sayı : 50. Tahminini azalt\n",
      "Girdiğiniz sayı : 40. Tahminini azalt\n",
      "Girdiğiniz sayı : 40. Tahminini azalt\n",
      "Girdiğiniz sayı : 30. Tahminini azalt\n",
      "Girdiğiniz sayı : 20. Tahminini azalt\n",
      "Girdiğiniz sayı : 20. Tahminini azalt\n",
      "Girdiğiniz sayı : 16. Tahminini azalt\n",
      "Girdiğiniz sayı : 15. Tahminini azalt\n",
      "Girdiğiniz sayı : 14. Tahminini azalt\n",
      "Girdiğiniz sayı : 12. Tahminini azalt\n",
      "Girdiğiniz sayı : 5. Tahminini arttır\n",
      "Girdiğiniz sayı : 8. Tahminini arttır\n",
      "Girdiğiniz sayı : 9. Tahminini arttır\n",
      "Girdiğiniz sayı : 10. Doğru bildiniz. Tebrikler. \n"
     ]
    }
   ],
   "source": [
    "y = True\n",
    "aklımdaki_sayı = random.randint(1,100)  #dün yazılan oyunu random hale getirdik.\n",
    "while y:\n",
    "    tahmin = int(input(\"1 ile 100 arasında bir sayı tahmin edin.\"))\n",
    "    if aklımdaki_sayı < tahmin:\n",
    "        print(f\"Girdiğiniz sayı : {tahmin}. Tahminini azalt\")\n",
    "    elif aklımdaki_sayı > tahmin:\n",
    "        print(f\"Girdiğiniz sayı : {tahmin}. Tahminini arttır\")\n",
    "    else:\n",
    "        print(f\"Girdiğiniz sayı : {tahmin}. Doğru bildiniz. Tebrikler. \")\n",
    "        y = False"
   ]
  },
  {
   "cell_type": "markdown",
   "metadata": {},
   "source": [
    "### break , continue"
   ]
  },
  {
   "cell_type": "code",
   "execution_count": 31,
   "metadata": {},
   "outputs": [
    {
     "name": "stdout",
     "output_type": "stream",
     "text": [
      "Girdiğiniz sayı : 14. Tahminini arttır\n",
      "Girdiğiniz sayı : 33. Tahminini arttır\n",
      "Girdiğiniz sayı : 44. Tahminini arttır\n",
      "Girdiğiniz sayı : 77. Tahminini azalt\n",
      "Girdiğiniz sayı : 77. Tahminini azalt\n",
      "Girdiğiniz sayı : 61. Tahminini arttır\n",
      "Girdiğiniz sayı : 66. Tahminini azalt\n",
      "Girdiğiniz sayı : 63. Tahminini azalt\n",
      "Girdiğiniz sayı : 62. Doğru bildiniz. Tebrikler. \n"
     ]
    }
   ],
   "source": [
    "\n",
    "aklımdaki_sayı = random.randint(1,100)  #dün yazılan oyunu random hale getirdik.\n",
    "while True:\n",
    "    tahmin = int(input(\"1 ile 100 arasında bir sayı tahmin edin.\"))\n",
    "    if aklımdaki_sayı < tahmin:\n",
    "        print(f\"Girdiğiniz sayı : {tahmin} Tahminini azalt\")\n",
    "    elif aklımdaki_sayı > tahmin:\n",
    "        print(f\"Girdiğiniz sayı : {tahmin} Tahminini arttır\")\n",
    "    else:\n",
    "        print(f\"Girdiğiniz sayı : {tahmin} Doğru bildiniz. Tebrikler. \")\n",
    "        break"
   ]
  },
  {
   "cell_type": "code",
   "execution_count": 36,
   "metadata": {},
   "outputs": [
    {
     "name": "stdout",
     "output_type": "stream",
     "text": [
      "Girdiğiniz sayı : 14. Tahminini arttır\n",
      "Girdiğiniz sayı : 40. Tahminini arttır\n",
      "Girdiğiniz sayı : 70. Tahminini arttır\n",
      "Girdiğiniz sayı : 90. Tahminini azalt\n",
      "Girdiğiniz sayı : 80. Tahminini azalt\n",
      "5 hakkınız bitti. sayı 74\n"
     ]
    }
   ],
   "source": [
    "import time\n",
    "\n",
    "aklımdaki_sayı = random.randint(1,100)  #dün yazılan oyunu random hale getirdik.\n",
    "time.sleep(2)\n",
    "\n",
    "sayac = 0\n",
    "while True:\n",
    "    tahmin = int(input(\"1 ile 100 arasında bir sayı tahmin edin.\"))\n",
    "    sayac += 1\n",
    "    if aklımdaki_sayı < tahmin:\n",
    "        print(f\"Girdiğiniz sayı : {tahmin}. Tahminini azalt\")\n",
    "    elif aklımdaki_sayı > tahmin:\n",
    "        print(f\"Girdiğiniz sayı : {tahmin}. Tahminini arttır\")\n",
    "    else:\n",
    "        print(f\"Girdiğiniz sayı : {tahmin}. Doğru bildiniz. Tebrikler. \")\n",
    "        break\n",
    "\n",
    "    time.sleep(2)\n",
    "\n",
    "    if sayac == 5:\n",
    "        print(f\"5 hakkınız bitti. sayı {aklımdaki_sayı}\")\n",
    "        break"
   ]
  },
  {
   "cell_type": "code",
   "execution_count": 38,
   "metadata": {},
   "outputs": [
    {
     "name": "stdout",
     "output_type": "stream",
     "text": [
      "10\n"
     ]
    }
   ],
   "source": [
    "#sırayla int değerleri toplayın. String ifadeye denk gelince kod sonlansın.\n",
    "liste = [1,2,3,4,\"Techpro\",5,6,7]\n",
    "\n",
    "x = 0\n",
    "toplam = 0\n",
    "while x < len(liste):\n",
    "\n",
    "    if type (liste[x]) == int:\n",
    "        toplam += liste[x]\n",
    "    elif type(liste[x]) == str:\n",
    "        break\n",
    "\n",
    "    x += 1   \n",
    "\n",
    "    \n",
    "print(toplam)    "
   ]
  },
  {
   "cell_type": "code",
   "execution_count": 40,
   "metadata": {},
   "outputs": [
    {
     "name": "stdout",
     "output_type": "stream",
     "text": [
      "28\n"
     ]
    }
   ],
   "source": [
    "#sırayla int değerleri toplayın. String ifadeye denk gelince o ifadeyi atlayın ve devam edin.\n",
    "\n",
    "liste = [1,2,3,4,\"Techpro\",5,6,7]\n",
    "\n",
    "x = 0\n",
    "toplam = 0\n",
    "while x < len(liste):\n",
    "\n",
    "    if type (liste[x]) == int:\n",
    "        toplam += liste[x]\n",
    "    elif type(liste[x]) == str:\n",
    "        x += 1  # x += 1'i buraya da yazmamızın sebebi continue kendisinden sonrasındakileri çalıştırmaz. Böylece x artmaz sonsuza gider.\n",
    "        continue\n",
    "\n",
    "    x += 1\n",
    "\n",
    "    \n",
    "print(toplam) "
   ]
  },
  {
   "cell_type": "markdown",
   "metadata": {},
   "source": [
    "## min(), max ()"
   ]
  },
  {
   "cell_type": "code",
   "execution_count": 41,
   "metadata": {},
   "outputs": [],
   "source": [
    "liste = [2, 5, 1, 3, 9, 4, 6, 8, 15, 48, 256]"
   ]
  },
  {
   "cell_type": "code",
   "execution_count": 43,
   "metadata": {},
   "outputs": [
    {
     "data": {
      "text/plain": [
       "1"
      ]
     },
     "execution_count": 43,
     "metadata": {},
     "output_type": "execute_result"
    }
   ],
   "source": [
    "min(liste)  #min liste içerisindeki minimum elemanı verecek."
   ]
  },
  {
   "cell_type": "code",
   "execution_count": 44,
   "metadata": {},
   "outputs": [
    {
     "data": {
      "text/plain": [
       "256"
      ]
     },
     "execution_count": 44,
     "metadata": {},
     "output_type": "execute_result"
    }
   ],
   "source": [
    "max(liste) #max liste içerisindeki maximum elemanı verecek."
   ]
  },
  {
   "cell_type": "code",
   "execution_count": 45,
   "metadata": {},
   "outputs": [],
   "source": [
    "tuple = (5, 8, 4, 6, 9)"
   ]
  },
  {
   "cell_type": "code",
   "execution_count": 46,
   "metadata": {},
   "outputs": [
    {
     "data": {
      "text/plain": [
       "4"
      ]
     },
     "execution_count": 46,
     "metadata": {},
     "output_type": "execute_result"
    }
   ],
   "source": [
    "min(tuple)"
   ]
  },
  {
   "cell_type": "code",
   "execution_count": 47,
   "metadata": {},
   "outputs": [
    {
     "data": {
      "text/plain": [
       "'ayhan'"
      ]
     },
     "execution_count": 47,
     "metadata": {},
     "output_type": "execute_result"
    }
   ],
   "source": [
    "min([\"techpro\" , \"ayhan\", \"irem\"]) # ascii değerlerine göre verir int yoksa."
   ]
  },
  {
   "cell_type": "code",
   "execution_count": 48,
   "metadata": {},
   "outputs": [
    {
     "ename": "TypeError",
     "evalue": "'<' not supported between instances of 'int' and 'str'",
     "output_type": "error",
     "traceback": [
      "\u001b[1;31m---------------------------------------------------------------------------\u001b[0m",
      "\u001b[1;31mTypeError\u001b[0m                                 Traceback (most recent call last)",
      "Cell \u001b[1;32mIn[48], line 1\u001b[0m\n\u001b[1;32m----> 1\u001b[0m \u001b[38;5;28;43mmin\u001b[39;49m\u001b[43m(\u001b[49m\u001b[43m[\u001b[49m\u001b[38;5;124;43m\"\u001b[39;49m\u001b[38;5;124;43mtechpro\u001b[39;49m\u001b[38;5;124;43m\"\u001b[39;49m\u001b[43m \u001b[49m\u001b[43m,\u001b[49m\u001b[43m \u001b[49m\u001b[38;5;124;43m\"\u001b[39;49m\u001b[38;5;124;43mayhan\u001b[39;49m\u001b[38;5;124;43m\"\u001b[39;49m\u001b[43m,\u001b[49m\u001b[43m \u001b[49m\u001b[38;5;124;43m\"\u001b[39;49m\u001b[38;5;124;43mirem\u001b[39;49m\u001b[38;5;124;43m\"\u001b[39;49m\u001b[43m,\u001b[49m\u001b[43m \u001b[49m\u001b[38;5;241;43m5\u001b[39;49m\u001b[43m \u001b[49m\u001b[43m,\u001b[49m\u001b[43m \u001b[49m\u001b[38;5;241;43m6\u001b[39;49m\u001b[43m \u001b[49m\u001b[43m]\u001b[49m\u001b[43m)\u001b[49m \u001b[38;5;66;03m# int e string karışık olursa HATA alırız.\u001b[39;00m\n",
      "\u001b[1;31mTypeError\u001b[0m: '<' not supported between instances of 'int' and 'str'"
     ]
    }
   ],
   "source": [
    "min([\"techpro\" , \"ayhan\", \"irem\", 5 , 6 ]) # int e string karışık olursa HATA alırız."
   ]
  },
  {
   "cell_type": "markdown",
   "metadata": {},
   "source": [
    "liste_1 = [4,5,6,9,85,23,65,47,32,91] listenin en küçük ve en büyük elemanını min ve max fpnksiyonu kullanmadan bulun. sort fonk da kullanmayın."
   ]
  },
  {
   "cell_type": "markdown",
   "metadata": {},
   "source": []
  },
  {
   "cell_type": "code",
   "execution_count": 12,
   "metadata": {},
   "outputs": [
    {
     "name": "stdout",
     "output_type": "stream",
     "text": [
      "max sayı: 91\n",
      "min_sayı: 4\n"
     ]
    }
   ],
   "source": [
    "liste_1 = [4,5,6,9,85,23,65,47,32,91]\n",
    "\n",
    "min_eleman = liste_1[0]\n",
    "max_eleman = liste_1[0]\n",
    "\n",
    "x = 1\n",
    "\n",
    "while x < len(liste_1):\n",
    "    if liste_1[x] > max_eleman:\n",
    "        max_eleman = liste_1[x]\n",
    "    elif liste_1[x] < min_eleman:\n",
    "        min_eleman = liste_1[x]\n",
    "    x += 1    \n",
    "    \n",
    "print(\"max sayı:\", max_eleman)\n",
    "print(\"min_sayı:\", min_eleman)\n",
    "\n"
   ]
  },
  {
   "cell_type": "code",
   "execution_count": 5,
   "metadata": {},
   "outputs": [
    {
     "name": "stdout",
     "output_type": "stream",
     "text": [
      "max sayı: 93\n",
      "min_sayı: 3\n"
     ]
    }
   ],
   "source": [
    "liste_1 = [9,5,6,4,85,93,65,47,32,3]\n",
    "\n",
    "min_sayı = liste_1[0]\n",
    "max_sayı = liste_1[0]\n",
    "\n",
    "x = 0\n",
    "\n",
    "while x < len(liste_1):\n",
    "    if min_sayı > liste_1[x]:\n",
    "        min_sayı = liste_1[x]\n",
    "\n",
    "    if max_sayı < liste_1[x]:\n",
    "        max_sayı = liste_1[x]\n",
    "\n",
    "\n",
    "    x += 1    \n",
    "    \n",
    "print(\"max sayı:\", max_sayı)\n",
    "print(\"min_sayı:\", min_sayı)"
   ]
  }
 ],
 "metadata": {
  "kernelspec": {
   "display_name": "Python 3",
   "language": "python",
   "name": "python3"
  },
  "language_info": {
   "codemirror_mode": {
    "name": "ipython",
    "version": 3
   },
   "file_extension": ".py",
   "mimetype": "text/x-python",
   "name": "python",
   "nbconvert_exporter": "python",
   "pygments_lexer": "ipython3",
   "version": "3.12.1"
  }
 },
 "nbformat": 4,
 "nbformat_minor": 2
}
