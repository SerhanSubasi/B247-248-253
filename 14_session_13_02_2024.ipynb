{
 "cells": [
  {
   "cell_type": "markdown",
   "metadata": {},
   "source": [
    "## random modülü"
   ]
  },
  {
   "cell_type": "code",
   "execution_count": 1,
   "metadata": {},
   "outputs": [],
   "source": [
    "import random"
   ]
  },
  {
   "cell_type": "code",
   "execution_count": 5,
   "metadata": {},
   "outputs": [
    {
     "data": {
      "text/plain": [
       "0.14026029577793864"
      ]
     },
     "execution_count": 5,
     "metadata": {},
     "output_type": "execute_result"
    }
   ],
   "source": [
    "random.random() # 0 dahil 1 dahil değil aralığında random sayı üretir."
   ]
  },
  {
   "cell_type": "code",
   "execution_count": 7,
   "metadata": {},
   "outputs": [
    {
     "data": {
      "text/plain": [
       "0.5486946056438222"
      ]
     },
     "execution_count": 7,
     "metadata": {},
     "output_type": "execute_result"
    }
   ],
   "source": [
    "random.seed(35) #belli bir sabite göre aynı değerleri rassal üretir. \n",
    "random.random()"
   ]
  },
  {
   "cell_type": "code",
   "execution_count": 23,
   "metadata": {},
   "outputs": [
    {
     "data": {
      "text/plain": [
       "4"
      ]
     },
     "execution_count": 23,
     "metadata": {},
     "output_type": "execute_result"
    }
   ],
   "source": [
    "random.randint(2,5)  #içine girilen iki sayı arasında random sayılar üretir. end point dahil."
   ]
  },
  {
   "cell_type": "code",
   "execution_count": 24,
   "metadata": {},
   "outputs": [
    {
     "data": {
      "text/plain": [
       "6"
      ]
     },
     "execution_count": 24,
     "metadata": {},
     "output_type": "execute_result"
    }
   ],
   "source": [
    "random.randint(1,6) # 1d6 zar oldu"
   ]
  },
  {
   "cell_type": "code",
   "execution_count": 26,
   "metadata": {},
   "outputs": [
    {
     "data": {
      "text/plain": [
       "[2, 30, 41, 10, 20]"
      ]
     },
     "execution_count": 26,
     "metadata": {},
     "output_type": "execute_result"
    }
   ],
   "source": [
    "random.sample(range(100),5) #100'e kadar ki sayılardan 5 tane getirir."
   ]
  },
  {
   "cell_type": "code",
   "execution_count": 30,
   "metadata": {},
   "outputs": [
    {
     "name": "stdout",
     "output_type": "stream",
     "text": [
      "Girdiğiniz sayı : 14. Tahminini azalt\n",
      "Girdiğiniz sayı : 50. Tahminini azalt\n",
      "Girdiğiniz sayı : 40. Tahminini azalt\n",
      "Girdiğiniz sayı : 40. Tahminini azalt\n",
      "Girdiğiniz sayı : 30. Tahminini azalt\n",
      "Girdiğiniz sayı : 20. Tahminini azalt\n",
      "Girdiğiniz sayı : 20. Tahminini azalt\n",
      "Girdiğiniz sayı : 16. Tahminini azalt\n",
      "Girdiğiniz sayı : 15. Tahminini azalt\n",
      "Girdiğiniz sayı : 14. Tahminini azalt\n",
      "Girdiğiniz sayı : 12. Tahminini azalt\n",
      "Girdiğiniz sayı : 5. Tahminini arttır\n",
      "Girdiğiniz sayı : 8. Tahminini arttır\n",
      "Girdiğiniz sayı : 9. Tahminini arttır\n",
      "Girdiğiniz sayı : 10. Doğru bildiniz. Tebrikler. \n"
     ]
    }
   ],
   "source": [
    "y = True\n",
    "aklımdaki_sayı = random.randint(1,100)  #dün yazılan oyunu random hale getirdik.\n",
    "while y:\n",
    "    tahmin = int(input(\"1 ile 100 arasında bir sayı tahmin edin.\"))\n",
    "    if aklımdaki_sayı < tahmin:\n",
    "        print(f\"Girdiğiniz sayı : {tahmin}. Tahminini azalt\")\n",
    "    elif aklımdaki_sayı > tahmin:\n",
    "        print(f\"Girdiğiniz sayı : {tahmin}. Tahminini arttır\")\n",
    "    else:\n",
    "        print(f\"Girdiğiniz sayı : {tahmin}. Doğru bildiniz. Tebrikler. \")\n",
    "        y = False"
   ]
  },
  {
   "cell_type": "markdown",
   "metadata": {},
   "source": [
    "### break , continue"
   ]
  },
  {
   "cell_type": "code",
   "execution_count": 31,
   "metadata": {},
   "outputs": [
    {
     "name": "stdout",
     "output_type": "stream",
     "text": [
      "Girdiğiniz sayı : 14. Tahminini arttır\n",
      "Girdiğiniz sayı : 33. Tahminini arttır\n",
      "Girdiğiniz sayı : 44. Tahminini arttır\n",
      "Girdiğiniz sayı : 77. Tahminini azalt\n",
      "Girdiğiniz sayı : 77. Tahminini azalt\n",
      "Girdiğiniz sayı : 61. Tahminini arttır\n",
      "Girdiğiniz sayı : 66. Tahminini azalt\n",
      "Girdiğiniz sayı : 63. Tahminini azalt\n",
      "Girdiğiniz sayı : 62. Doğru bildiniz. Tebrikler. \n"
     ]
    }
   ],
   "source": [
    "\n",
    "aklımdaki_sayı = random.randint(1,100)  #dün yazılan oyunu random hale getirdik.\n",
    "while True:\n",
    "    tahmin = int(input(\"1 ile 100 arasında bir sayı tahmin edin.\"))\n",
    "    if aklımdaki_sayı < tahmin:\n",
    "        print(f\"Girdiğiniz sayı : {tahmin}. Tahminini azalt\")\n",
    "    elif aklımdaki_sayı > tahmin:\n",
    "        print(f\"Girdiğiniz sayı : {tahmin}. Tahminini arttır\")\n",
    "    else:\n",
    "        print(f\"Girdiğiniz sayı : {tahmin}. Doğru bildiniz. Tebrikler. \")\n",
    "        break"
   ]
  },
  {
   "cell_type": "code",
   "execution_count": null,
   "metadata": {},
   "outputs": [],
   "source": [
    "\n",
    "aklımdaki_sayı = random.randint(1,100)  #dün yazılan oyunu random hale getirdik.\n",
    "sayac = 0\n",
    "while True:\n",
    "    tahmin = int(input(\"1 ile 100 arasında bir sayı tahmin edin.\"))\n",
    "    sayac += 1\n",
    "    if aklımdaki_sayı < tahmin:\n",
    "        print(f\"Girdiğiniz sayı : {tahmin}. Tahminini azalt\")\n",
    "    elif aklımdaki_sayı > tahmin:\n",
    "        print(f\"Girdiğiniz sayı : {tahmin}. Tahminini arttır\")\n",
    "    else:\n",
    "        print(f\"Girdiğiniz sayı : {tahmin}. Doğru bildiniz. Tebrikler. \")\n",
    "        break\n",
    "    \n",
    "    if sayac == 5:\n",
    "        break"
   ]
  },
  {
   "cell_type": "code",
   "execution_count": null,
   "metadata": {},
   "outputs": [],
   "source": []
  }
 ],
 "metadata": {
  "kernelspec": {
   "display_name": "Python 3",
   "language": "python",
   "name": "python3"
  },
  "language_info": {
   "codemirror_mode": {
    "name": "ipython",
    "version": 3
   },
   "file_extension": ".py",
   "mimetype": "text/x-python",
   "name": "python",
   "nbconvert_exporter": "python",
   "pygments_lexer": "ipython3",
   "version": "3.12.1"
  }
 },
 "nbformat": 4,
 "nbformat_minor": 2
}
